{
 "cells": [
  {
   "cell_type": "markdown",
   "metadata": {},
   "source": [
    "# Machine Learning <a id='back'></a>"
   ]
  },
  {
   "cell_type": "markdown",
   "metadata": {},
   "source": [
    "# Introduction \n",
    "\n",
    "\n",
    "# Project Description \n",
    "\n",
    "\n",
    "This project is to develop a model that can analyze subscribers' behavior and recommend one of Megaline's newer plans: Smart or Ultra. The accuracy of the model needs to meet or exceed a threshold of 0.75. Check the quality of the model using the test set. The preprocessed dataset containing behavior data of subscribers who have already switched to the new plans is stored in the file `users_behavior.csv`. Every observation in the dataset contains monthly behavior information about one user. The information given is as follows:\n",
    " * `'сalls'` — number of calls,\n",
    " * `'minutes'` — total call duration in minutes,\n",
    " * `'messages'` — number of text messages,\n",
    " * `'mb_used'` — Internet traffic used in MB,\n",
    " * `'is_ultra'` — plan for the current month (Ultra - 1, Smart - 0).\n",
    "\n",
    "My project consists of three stages:\n",
    " 1. Data overview and preprocessing.\n",
    " 2. Model development, including model quality evaluation and sanity check.\n",
    "       * Decision Tree Classifier\n",
    "       * Random Forest Classifier\n",
    "       * Logistic Regression\n",
    " 3. Findings."
   ]
  },
  {
   "cell_type": "markdown",
   "metadata": {},
   "source": [
    "## Stage 1. Data overview and preprocessing  \n",
    "\n",
    "Open the data and explore it. Correct data types. Check for missing values and duplicates. Prepare the data for analysis.\n",
    "\n",
    "As mentioned in description, the data has been preprocessed. However, let's perform some basic checks on the data to ensure its quality and suitability for model development."
   ]
  },
  {
   "cell_type": "code",
   "execution_count": 1,
   "metadata": {},
   "outputs": [],
   "source": [
    "# importing necessary libraries for data analysis, modeling, and visualization\n",
    "import pandas as pd\n",
    "from sklearn.tree import DecisionTreeClassifier\n",
    "from sklearn.ensemble import RandomForestClassifier\n",
    "from sklearn.linear_model import LogisticRegression\n",
    "from sklearn.model_selection import train_test_split\n",
    "from sklearn.metrics import accuracy_score\n",
    "from sklearn.metrics import confusion_matrix\n",
    "import seaborn as sns\n",
    "import matplotlib.pyplot as plt"
   ]
  },
  {
   "cell_type": "code",
   "execution_count": 2,
   "metadata": {},
   "outputs": [],
   "source": [
    "# uploading dataset\n",
    "df = pd.read_csv('/datasets/users_behavior.csv') "
   ]
  },
  {
   "cell_type": "code",
   "execution_count": 3,
   "metadata": {},
   "outputs": [
    {
     "data": {
      "text/html": [
       "<div>\n",
       "<style scoped>\n",
       "    .dataframe tbody tr th:only-of-type {\n",
       "        vertical-align: middle;\n",
       "    }\n",
       "\n",
       "    .dataframe tbody tr th {\n",
       "        vertical-align: top;\n",
       "    }\n",
       "\n",
       "    .dataframe thead th {\n",
       "        text-align: right;\n",
       "    }\n",
       "</style>\n",
       "<table border=\"1\" class=\"dataframe\">\n",
       "  <thead>\n",
       "    <tr style=\"text-align: right;\">\n",
       "      <th></th>\n",
       "      <th>calls</th>\n",
       "      <th>minutes</th>\n",
       "      <th>messages</th>\n",
       "      <th>mb_used</th>\n",
       "      <th>is_ultra</th>\n",
       "    </tr>\n",
       "  </thead>\n",
       "  <tbody>\n",
       "    <tr>\n",
       "      <th>1597</th>\n",
       "      <td>92.0</td>\n",
       "      <td>719.71</td>\n",
       "      <td>66.0</td>\n",
       "      <td>23827.53</td>\n",
       "      <td>0</td>\n",
       "    </tr>\n",
       "    <tr>\n",
       "      <th>2991</th>\n",
       "      <td>60.0</td>\n",
       "      <td>351.44</td>\n",
       "      <td>85.0</td>\n",
       "      <td>21943.86</td>\n",
       "      <td>0</td>\n",
       "    </tr>\n",
       "    <tr>\n",
       "      <th>2759</th>\n",
       "      <td>93.0</td>\n",
       "      <td>603.04</td>\n",
       "      <td>39.0</td>\n",
       "      <td>26523.98</td>\n",
       "      <td>1</td>\n",
       "    </tr>\n",
       "    <tr>\n",
       "      <th>1285</th>\n",
       "      <td>64.0</td>\n",
       "      <td>432.25</td>\n",
       "      <td>14.0</td>\n",
       "      <td>20009.42</td>\n",
       "      <td>0</td>\n",
       "    </tr>\n",
       "    <tr>\n",
       "      <th>2266</th>\n",
       "      <td>62.0</td>\n",
       "      <td>401.18</td>\n",
       "      <td>47.0</td>\n",
       "      <td>17199.43</td>\n",
       "      <td>0</td>\n",
       "    </tr>\n",
       "  </tbody>\n",
       "</table>\n",
       "</div>"
      ],
      "text/plain": [
       "      calls  minutes  messages   mb_used  is_ultra\n",
       "1597   92.0   719.71      66.0  23827.53         0\n",
       "2991   60.0   351.44      85.0  21943.86         0\n",
       "2759   93.0   603.04      39.0  26523.98         1\n",
       "1285   64.0   432.25      14.0  20009.42         0\n",
       "2266   62.0   401.18      47.0  17199.43         0"
      ]
     },
     "metadata": {},
     "output_type": "display_data"
    },
    {
     "name": "stdout",
     "output_type": "stream",
     "text": [
      "\n",
      "<class 'pandas.core.frame.DataFrame'>\n",
      "RangeIndex: 3214 entries, 0 to 3213\n",
      "Data columns (total 5 columns):\n",
      " #   Column    Non-Null Count  Dtype  \n",
      "---  ------    --------------  -----  \n",
      " 0   calls     3214 non-null   float64\n",
      " 1   minutes   3214 non-null   float64\n",
      " 2   messages  3214 non-null   float64\n",
      " 3   mb_used   3214 non-null   float64\n",
      " 4   is_ultra  3214 non-null   int64  \n",
      "dtypes: float64(4), int64(1)\n",
      "memory usage: 125.7 KB\n"
     ]
    }
   ],
   "source": [
    "# examening data\n",
    "display(df.sample(5))\n",
    "print()\n",
    "df.info()"
   ]
  },
  {
   "cell_type": "code",
   "execution_count": 4,
   "metadata": {},
   "outputs": [
    {
     "name": "stdout",
     "output_type": "stream",
     "text": [
      "0\n"
     ]
    }
   ],
   "source": [
    "# checking for duplicates\n",
    "print(df.duplicated().sum())"
   ]
  },
  {
   "cell_type": "code",
   "execution_count": 5,
   "metadata": {},
   "outputs": [
    {
     "name": "stdout",
     "output_type": "stream",
     "text": [
      "calls       0\n",
      "minutes     0\n",
      "messages    0\n",
      "mb_used     0\n",
      "is_ultra    0\n",
      "dtype: int64\n"
     ]
    }
   ],
   "source": [
    "# checking for missing values\n",
    "print(df.isna().sum())"
   ]
  },
  {
   "cell_type": "code",
   "execution_count": 6,
   "metadata": {},
   "outputs": [
    {
     "data": {
      "text/plain": [
       "0    2229\n",
       "1     985\n",
       "Name: is_ultra, dtype: int64"
      ]
     },
     "execution_count": 6,
     "metadata": {},
     "output_type": "execute_result"
    }
   ],
   "source": [
    "# checking values in 'is_ultra' column\n",
    "# should be onle two values (Ultra - 1, Smart - 0)\n",
    "df['is_ultra'].value_counts()"
   ]
  },
  {
   "cell_type": "markdown",
   "metadata": {},
   "source": [
    "### Conclusions\n",
    "\n",
    "* Data has no missing values or duplicates.\n",
    "* There are more subscribers who use the Smart plan compared to the Ultra plan.\n",
    "* The data is suitable for model development."
   ]
  },
  {
   "cell_type": "markdown",
   "metadata": {},
   "source": [
    "## Stage 2. Model Development"
   ]
  },
  {
   "cell_type": "markdown",
   "metadata": {},
   "source": [
    "### Splitting the data"
   ]
  },
  {
   "cell_type": "code",
   "execution_count": 7,
   "metadata": {},
   "outputs": [
    {
     "name": "stdout",
     "output_type": "stream",
     "text": [
      "(3214, 4)\n",
      "(3214,)\n"
     ]
    }
   ],
   "source": [
    "# initializing features and target\n",
    "features = df.drop('is_ultra', axis=1)\n",
    "target = df['is_ultra']\n",
    "print(features.shape)\n",
    "print(target.shape)"
   ]
  },
  {
   "cell_type": "markdown",
   "metadata": {},
   "source": [
    "We need to split the data into a training set, a validation set, and a test set. \n",
    "\n",
    "The preferable ratio would be 3:1:1, which means 60% - training set, 20% - validation set, 20% - test set."
   ]
  },
  {
   "cell_type": "code",
   "execution_count": 8,
   "metadata": {},
   "outputs": [
    {
     "name": "stdout",
     "output_type": "stream",
     "text": [
      "The shape of training set:  (1928, 4) (1928,)\n",
      "The shape of testing set:  (643, 4) (643,)\n",
      "The shape of validation set:  (643, 4) (643,)\n"
     ]
    }
   ],
   "source": [
    "# splitting the data into a training set, a validation set, and a test set\n",
    "\n",
    "# sets for training and testing\n",
    "features_train, features_test, target_train, target_test = train_test_split(features,     \n",
    "                                                                         target, \n",
    "                                                                         test_size=0.2, \n",
    "                                                                         random_state=12345)\n",
    "# sets for training and validation\n",
    "features_train, features_valid, target_train, target_valid = train_test_split(features_train,     \n",
    "                                                                         target_train, \n",
    "                                                                         test_size=0.25, \n",
    "                                                                         random_state=12345)\n",
    "print('The shape of training set: ', features_train.shape, target_train.shape)\n",
    "print('The shape of testing set: ', features_test.shape, target_test.shape)\n",
    "print('The shape of validation set: ', features_valid.shape, target_valid.shape)"
   ]
  },
  {
   "cell_type": "markdown",
   "metadata": {},
   "source": [
    "### Model 1 - Decision Tree Classifier"
   ]
  },
  {
   "cell_type": "markdown",
   "metadata": {},
   "source": [
    "The most important hyperparameter for Decision Tree is maximum depth."
   ]
  },
  {
   "cell_type": "code",
   "execution_count": 9,
   "metadata": {
    "scrolled": false
   },
   "outputs": [
    {
     "name": "stdout",
     "output_type": "stream",
     "text": [
      "The optimal depth is:  7\n",
      "Accuracy of the best model on the validation set is:  0.7744945567651633\n"
     ]
    }
   ],
   "source": [
    "# determining the optimal maximum depth\n",
    "best_model = None\n",
    "best_accuracy = 0\n",
    "best_depth = 0\n",
    "for depth in range (1, 21):\n",
    "    model_1 = DecisionTreeClassifier(max_depth=depth, random_state=12345) # setting a model (Decision Tree Classifier)\n",
    "    model_1.fit(features_train, target_train)                             # training the model\n",
    "    predictions_valid = model_1.predict(features_valid)                   # getting the model's predictions\n",
    "    accuracy = accuracy_score(target_valid, predictions_valid)            # calculating the accuracy on validation set\n",
    "    if accuracy > best_accuracy:\n",
    "        best_model = model_1\n",
    "        best_accuracy = accuracy\n",
    "        best_depth = depth\n",
    "print('The optimal depth is: ', best_depth)\n",
    "print('Accuracy of the best model on the validation set is: ', best_accuracy)"
   ]
  },
  {
   "cell_type": "code",
   "execution_count": 10,
   "metadata": {},
   "outputs": [
    {
     "name": "stdout",
     "output_type": "stream",
     "text": [
      "Accuracy of the best model on the test set: 0.7884914463452566\n"
     ]
    }
   ],
   "source": [
    "# calculating the accuracy of the model on the test set\n",
    "predictions_test = best_model.predict(features_test)                 # getting the model's predictions on the test set\n",
    "accuracy_test = accuracy_score(target_test, predictions_test)        # calculating the accuracy on the test set\n",
    "print('Accuracy of the best model on the test set:', accuracy_test)"
   ]
  },
  {
   "cell_type": "code",
   "execution_count": 11,
   "metadata": {},
   "outputs": [
    {
     "name": "stdout",
     "output_type": "stream",
     "text": [
      "The accuracy on the test set 0.79 meets the threshold of 0.75. Sanity check passed!\n",
      "The accuracy on the validation set 0.77 meets the threshold of 0.75\n"
     ]
    }
   ],
   "source": [
    "# checking if accuracy meets the threshold\n",
    "threshold = 0.75\n",
    "if accuracy_test >= threshold:\n",
    "    print(f'The accuracy on the test set {accuracy_test:.2f} meets the threshold of {threshold}. Sanity check passed!')\n",
    "else:\n",
    "    print(f'The accuracy on the test set {accuracy_test:.2f} does not meet the threshold of {threshold}. Sanity check failed!')\n",
    "\n",
    "if best_accuracy >= threshold:\n",
    "    print(f'The accuracy on the validation set {best_accuracy:.2f} meets the threshold of {threshold}')\n",
    "else:\n",
    "    print(f'The accuracy on the validation set {best_accuracy:.2f} does not meet the threshold of {threshold}')"
   ]
  },
  {
   "cell_type": "markdown",
   "metadata": {},
   "source": [
    "The accuracy on the test set meets the threshold. Let's calculate and plot the confusion matrix to get a detailed summary of the model's performance and to evaluate how well the model is making correct and incorrect predictions for each class."
   ]
  },
  {
   "cell_type": "code",
   "execution_count": 12,
   "metadata": {},
   "outputs": [
    {
     "data": {
      "image/png": "[encoded data removed]",
      "text/plain": [
       "<Figure size 648x648 with 2 Axes>"
      ]
     },
     "metadata": {
      "needs_background": "light"
     },
     "output_type": "display_data"
    }
   ],
   "source": [
    "# calculating the confusion matrix for Decision Tree Classifier\n",
    "cm_dtc = confusion_matrix(target_test, predictions_test)\n",
    "# plotting a heatmap of the confusion matrix \n",
    "plt.figure(figsize=(9, 9))\n",
    "sns.heatmap(cm_dtc,\n",
    "            annot=True,\n",
    "            fmt='',\n",
    "            linewidths=.5,\n",
    "            square = True, \n",
    "            cmap = 'Blues_r',\n",
    "            cbar_kws={'label': 'Count'},)\n",
    "plt.title('Accuracy Score: {0}'.format(accuracy_test))\n",
    "plt.xlabel('Predicted label')\n",
    "plt.ylabel('Actual label')\n",
    "plt.show()"
   ]
  },
  {
   "cell_type": "markdown",
   "metadata": {},
   "source": [
    "True Positives: 86 - The number of correctly predicted 'Ultra' (positive) instances.\n",
    "\n",
    "False Positives: 26 - The number of 'Smart' (negative) instances wrongly classified as 'Ultra'.\n",
    "\n",
    "False Negatives: 110 - The number of 'Ultra' instances wrongly classified as 'Smart'.\n",
    "\n",
    "True Negatives: 421 - The number of correctly predicted 'Smart' instances."
   ]
  },
  {
   "cell_type": "markdown",
   "metadata": {},
   "source": [
    "Let's calculate precision and recall:\n",
    "\n",
    "Precision = True Positives / (True Positives + False Positives)\n",
    "\n",
    "Recall = True Positives / (True Positives + False Negatives)"
   ]
  },
  {
   "cell_type": "code",
   "execution_count": 13,
   "metadata": {},
   "outputs": [
    {
     "name": "stdout",
     "output_type": "stream",
     "text": [
      "Precision for Decision Tree Classifier: 0.77\n",
      "Recall for Decision Tree Classifier: 0.44\n"
     ]
    }
   ],
   "source": [
    "# extracting True Positives, False Positives, and False Negatives from the confusion matrix\n",
    "TP_dtc = cm_dtc[1, 1]\n",
    "FP_dtc = cm_dtc[0, 1]\n",
    "FN_dtc = cm_dtc[1, 0]\n",
    "# calculating precision and recall for Decision Tree Classifier\n",
    "precision_dtc = TP_dtc / (TP_dtc + FP_dtc)\n",
    "recall_dtc = TP_dtc / (TP_dtc + FN_dtc)\n",
    "print(f'Precision for Decision Tree Classifier: {precision_dtc:.2f}')\n",
    "print(f'Recall for Decision Tree Classifier: {recall_dtc:.2f}')"
   ]
  },
  {
   "cell_type": "markdown",
   "metadata": {},
   "source": [
    "#### Conclusions\n",
    "\n",
    "* The optimal maximum depth for the Decision Tree Classifier is found to be 7.\n",
    "* The best model achieved an accuracy of approximately 0.77 on the validation set.\n",
    "* The best model achieved an accuracy of approximately 0.79 on the test set.\n",
    "* The model performs consistently well on both the validation and test sets.\n",
    "* The accuracy on the validation set and the accuracy on the test set both meet the threshold, indicating that the model performs better than chance.\n",
    "* The model's precision indicates that when it predicts a subscriber as 'Ultra', it is correct around 77% of the time.\n",
    "* The model's recall indicates that it is able to correctly identify around 44% of the actual 'Ultra' subscribers."
   ]
  },
  {
   "cell_type": "markdown",
   "metadata": {},
   "source": [
    "### Model 2 - Random Forest Classifier"
   ]
  },
  {
   "cell_type": "markdown",
   "metadata": {},
   "source": [
    "The most important hyperparameters for Random Forest are number of estimators and maximum depth."
   ]
  },
  {
   "cell_type": "code",
   "execution_count": 14,
   "metadata": {},
   "outputs": [
    {
     "name": "stdout",
     "output_type": "stream",
     "text": [
      "The optimal number of estimators is: 20\n",
      "The optimal depth is: 15\n",
      "Accuracy of the best model on the validation set: 0.80248833592535\n"
     ]
    }
   ],
   "source": [
    "# determining the optimal number of estimators and optimal maximum depth\n",
    "best_model_2 = None\n",
    "best_accuracy_2 = 0\n",
    "best_depth_2 = 0\n",
    "best_est = 0\n",
    "for est in range(10, 51, 10):\n",
    "    for depth in range(1, 21):\n",
    "        model_2 = RandomForestClassifier(max_depth=depth, random_state=12345, n_estimators=est)\n",
    "        model_2.fit(features_train, target_train)\n",
    "        predictions_valid_2 = model_2.predict(features_valid)\n",
    "        accuracy_2 = accuracy_score(target_valid, predictions_valid_2)\n",
    "        if accuracy_2 > best_accuracy_2:\n",
    "            best_model_2 = model_2\n",
    "            best_accuracy_2 = accuracy_2\n",
    "            best_est = est\n",
    "            best_depth_2 = depth\n",
    "print('The optimal number of estimators is:', best_est)\n",
    "print('The optimal depth is:', best_depth_2)\n",
    "print('Accuracy of the best model on the validation set:', best_accuracy_2)"
   ]
  },
  {
   "cell_type": "code",
   "execution_count": 15,
   "metadata": {},
   "outputs": [
    {
     "name": "stdout",
     "output_type": "stream",
     "text": [
      "Accuracy of the best model on the test set: 0.7853810264385692\n"
     ]
    }
   ],
   "source": [
    "# calculating the accuracy of the model on the test set\n",
    "predictions_test_2 = best_model_2.predict(features_test)             \n",
    "accuracy_test_2 = accuracy_score(target_test, predictions_test_2)        \n",
    "print('Accuracy of the best model on the test set:', accuracy_test_2)"
   ]
  },
  {
   "cell_type": "code",
   "execution_count": 16,
   "metadata": {},
   "outputs": [
    {
     "name": "stdout",
     "output_type": "stream",
     "text": [
      "The accuracy on the test set 0.79 meets the threshold of 0.75. Sanity check passed!\n",
      "The accuracy on the validation set 0.80 meets the threshold of 0.75\n"
     ]
    }
   ],
   "source": [
    "# checking if accuracy meets the threshold\n",
    "threshold = 0.75\n",
    "if accuracy_test_2 >= threshold:\n",
    "    print(f'The accuracy on the test set {accuracy_test_2:.2f} meets the threshold of {threshold}. Sanity check passed!')\n",
    "else:\n",
    "    print(f'The accuracy on the test set {accuracy_test_2:.2f} does not meet the threshold of {threshold}. Sanity check failed!')\n",
    "\n",
    "if best_accuracy_2 >= threshold:\n",
    "    print(f'The accuracy on the validation set {best_accuracy_2:.2f} meets the threshold of {threshold}')\n",
    "else:\n",
    "    print(f'The accuracy on the validation set {best_accuracy_2:.2f} does not meet the threshold of {threshold}')"
   ]
  },
  {
   "cell_type": "code",
   "execution_count": 17,
   "metadata": {},
   "outputs": [
    {
     "data": {
      "image/png": "[encoded data removed]",
      "text/plain": [
       "<Figure size 648x648 with 2 Axes>"
      ]
     },
     "metadata": {
      "needs_background": "light"
     },
     "output_type": "display_data"
    }
   ],
   "source": [
    "# calculating the confusion matrix for Random Forest Classifier\n",
    "cm_rfc = confusion_matrix(target_test, predictions_test_2)\n",
    "# plotting a heatmap of the \n",
    "plt.figure(figsize=(9, 9))\n",
    "sns.heatmap(cm_rfc,\n",
    "            annot=True,\n",
    "            fmt='',\n",
    "            linewidths=.5,\n",
    "            square = True, \n",
    "            cmap = 'Blues_r',\n",
    "            cbar_kws={'label': 'Count'},)\n",
    "plt.title('Accuracy Score: {0}'.format(accuracy_test_2))\n",
    "plt.xlabel('Predicted label')\n",
    "plt.ylabel('Actual label')\n",
    "plt.show()"
   ]
  },
  {
   "cell_type": "markdown",
   "metadata": {},
   "source": [
    "True Positives: 101 - The number of correctly predicted 'Ultra' (positive) instances.\n",
    "\n",
    "False Positives: 43 - The number of 'Smart' (negative) instances wrongly classified as 'Ultra'.\n",
    "\n",
    "False Negatives: 95 - The number of 'Ultra' instances wrongly classified as 'Smart'.\n",
    "\n",
    "True Negatives: 404 - The number of correctly predicted 'Smart' instances."
   ]
  },
  {
   "cell_type": "code",
   "execution_count": 18,
   "metadata": {},
   "outputs": [
    {
     "name": "stdout",
     "output_type": "stream",
     "text": [
      "Precision for Random Forest Classifier: 0.70\n",
      "Recall for Random Forest Classifier: 0.52\n"
     ]
    }
   ],
   "source": [
    "# extracting True Positives, False Positives, and False Negatives from the confusion matrix\n",
    "TP_rfc = cm_rfc[1, 1]\n",
    "FP_rfc = cm_rfc[0, 1]\n",
    "FN_rfc = cm_rfc[1, 0]\n",
    "# calculating precision and recall for Random Forest Classifier\n",
    "precision_rfc = TP_rfc / (TP_rfc + FP_rfc)\n",
    "recall_rfc = TP_rfc / (TP_rfc + FN_rfc)\n",
    "print(f'Precision for Random Forest Classifier: {precision_rfc:.2f}')\n",
    "print(f'Recall for Random Forest Classifier: {recall_rfc:.2f}')"
   ]
  },
  {
   "cell_type": "markdown",
   "metadata": {},
   "source": [
    "#### Conclusions\n",
    "\n",
    "* The optimal number of trees in the forest is found to be 20.\n",
    "* The optimal maximum depth for the Random Forest Classifier is 15.\n",
    "* The model achieved an accuracy of approximately 0.80 on the validation set.\n",
    "* The accuracy of the model on the independent test set is approximately 0.79.\n",
    "* The model performs consistently well on both the validation and test sets.\n",
    "* The accuracy on the validation set and the accuracy on the test set both meet the threshold, indicating that the model performs better than chance.\n",
    "* The model's precision indicates that when it predicts a subscriber as 'Ultra', it is correct around 70% of the time.\n",
    "* The model's recall indicates that it is able to correctly identify around 52% of the actual 'Ultra' subscribers."
   ]
  },
  {
   "cell_type": "markdown",
   "metadata": {},
   "source": [
    "### Model 3 - Logistic Regression"
   ]
  },
  {
   "cell_type": "markdown",
   "metadata": {},
   "source": [
    "Here we will test different solvers."
   ]
  },
  {
   "cell_type": "code",
   "execution_count": 19,
   "metadata": {
    "scrolled": true
   },
   "outputs": [
    {
     "name": "stdout",
     "output_type": "stream",
     "text": [
      "The best solver is: liblinear\n",
      "Accuracy of the best model on the validation set: 0.7293934681181959\n"
     ]
    },
    {
     "name": "stderr",
     "output_type": "stream",
     "text": [
      "/opt/conda/lib/python3.9/site-packages/scipy/optimize/_linesearch.py:456: LineSearchWarning: The line search algorithm did not converge\n",
      "  warn('The line search algorithm did not converge', LineSearchWarning)\n",
      "/opt/conda/lib/python3.9/site-packages/scipy/optimize/_linesearch.py:305: LineSearchWarning: The line search algorithm did not converge\n",
      "  warn('The line search algorithm did not converge', LineSearchWarning)\n",
      "/opt/conda/lib/python3.9/site-packages/sklearn/linear_model/_sag.py:328: ConvergenceWarning: The max_iter was reached which means the coef_ did not converge\n",
      "  warnings.warn(\"The max_iter was reached which means \"\n",
      "/opt/conda/lib/python3.9/site-packages/sklearn/linear_model/_sag.py:328: ConvergenceWarning: The max_iter was reached which means the coef_ did not converge\n",
      "  warnings.warn(\"The max_iter was reached which means \"\n"
     ]
    }
   ],
   "source": [
    "# determining the best solver\n",
    "solvers = ['liblinear', 'newton-cg', 'lbfgs', 'sag', 'saga']   # solvers to test\n",
    "best_solver = None\n",
    "best_accuracy_3 = 0\n",
    "for solver in solvers:\n",
    "    model_3 = LogisticRegression(solver=solver, random_state=12345)\n",
    "    model_3.fit(features_train, target_train)\n",
    "    predictions_valid_3 = model_3.predict(features_valid)\n",
    "    accuracy_3 = accuracy_score(target_valid, predictions_valid_3)\n",
    "    if accuracy_3 > best_accuracy_3:\n",
    "            best_solver = solver\n",
    "            best_model_3 = model_3\n",
    "            best_accuracy_3 = accuracy_3            \n",
    "print('The best solver is:', best_solver)\n",
    "print('Accuracy of the best model on the validation set:', best_accuracy_3)"
   ]
  },
  {
   "cell_type": "code",
   "execution_count": 20,
   "metadata": {},
   "outputs": [
    {
     "name": "stdout",
     "output_type": "stream",
     "text": [
      "Accuracy of the best model on the test set: 0.7511664074650077\n"
     ]
    }
   ],
   "source": [
    "# calculating the accuracy of the model on the test set\n",
    "predictions_test_3 = best_model_3.predict(features_test)             \n",
    "accuracy_test_3 = accuracy_score(target_test, predictions_test_3)        \n",
    "print('Accuracy of the best model on the test set:', accuracy_test_3)"
   ]
  },
  {
   "cell_type": "code",
   "execution_count": 21,
   "metadata": {},
   "outputs": [
    {
     "name": "stdout",
     "output_type": "stream",
     "text": [
      "The accuracy on the test set 0.75 meets the threshold of 0.75. Sanity check passed!\n",
      "The accuracy on the validation set 0.73 does not meet the threshold of 0.75\n"
     ]
    }
   ],
   "source": [
    "# checking if accuracy meets the threshold\n",
    "threshold = 0.75\n",
    "if accuracy_test_3 >= threshold:\n",
    "    print(f'The accuracy on the test set {accuracy_test_3:.2f} meets the threshold of {threshold}. Sanity check passed!')\n",
    "else:\n",
    "    print(f'The accuracy on the test set {accuracy_test_3:.2f} does not meet the threshold of {threshold}. Sanity check failed!')\n",
    "\n",
    "if best_accuracy_3 >= threshold:\n",
    "    print(f'The accuracy on the validation set {best_accuracy_3:.2f} meets the threshold of {threshold}')\n",
    "else:\n",
    "    print(f'The accuracy on the validation set {best_accuracy_3:.2f} does not meet the threshold of {threshold}')"
   ]
  },
  {
   "cell_type": "code",
   "execution_count": 22,
   "metadata": {},
   "outputs": [
    {
     "data": {
      "image/png": "[encoded data removed]",
      "text/plain": [
       "<Figure size 648x648 with 2 Axes>"
      ]
     },
     "metadata": {
      "needs_background": "light"
     },
     "output_type": "display_data"
    }
   ],
   "source": [
    "# calculating the confusion matrix for Logistic Regression\n",
    "cm_lr = confusion_matrix(target_test, predictions_test_3)\n",
    "# plotting a heatmap of the \n",
    "plt.figure(figsize=(9, 9))\n",
    "sns.heatmap(cm_lr,\n",
    "            annot=True,\n",
    "            fmt='',\n",
    "            linewidths=.5,\n",
    "            square = True, \n",
    "            cmap = 'Blues_r',\n",
    "            cbar_kws={'label': 'Count'},)\n",
    "plt.title('Accuracy Score: {0}'.format(accuracy_test_3))\n",
    "plt.xlabel('Predicted label')\n",
    "plt.ylabel('Actual label')\n",
    "plt.show()"
   ]
  },
  {
   "cell_type": "markdown",
   "metadata": {},
   "source": [
    "True Positives: 39 - The number of correctly predicted 'Ultra' (positive) instances.\n",
    "\n",
    "False Positives: 3 - The number of 'Smart' (negative) instances wrongly classified as 'Ultra'.\n",
    "\n",
    "False Negatives: 157 - The number of 'Ultra' instances wrongly classified as 'Smart'.\n",
    "\n",
    "True Negatives: 444 - The number of correctly predicted 'Smart' instances."
   ]
  },
  {
   "cell_type": "code",
   "execution_count": 23,
   "metadata": {},
   "outputs": [
    {
     "name": "stdout",
     "output_type": "stream",
     "text": [
      "Precision for Logistic Regression: 0.93\n",
      "Recall for Logistic Regression: 0.20\n"
     ]
    }
   ],
   "source": [
    "# extracting True Positives, False Positives, and False Negatives from the confusion matrix\n",
    "TP_lr = cm_lr[1, 1]\n",
    "FP_lr = cm_lr[0, 1]\n",
    "FN_lr = cm_lr[1, 0]\n",
    "# calculating precision and recall for Logistic Regression\n",
    "precision_lr = TP_lr / (TP_lr + FP_lr)\n",
    "recall_lr = TP_lr / (TP_lr + FN_lr)\n",
    "print(f'Precision for Logistic Regression: {precision_lr:.2f}')\n",
    "print(f'Recall for Logistic Regression: {recall_lr:.2f}')"
   ]
  },
  {
   "cell_type": "markdown",
   "metadata": {},
   "source": [
    "#### Conclusions\n",
    "\n",
    "* The best solver is 'liblinear'.\n",
    "* Logistic Regression model achieved an accuracy of 0.73 on the validation set.\n",
    "* The accuracy of the model on the test set is approximately 0.75.\n",
    "* The model performs consistently well on both the validation and test sets.\n",
    "* The accuracy on the validation set doesn't meet the threshold, and the accuracy on the test set meets the threshold.\n",
    "* The model's precision indicates that when it predicts a subscriber as 'Ultra', it is correct around 93% of the time.\n",
    "* The model's recall is relatively low, indicating that it is not very effective at correctly identifying 'Ultra' subscribers, capturing only around 20% of the actual \"Ultra\" subscribers."
   ]
  },
  {
   "cell_type": "markdown",
   "metadata": {},
   "source": [
    "## Findings"
   ]
  },
  {
   "cell_type": "markdown",
   "metadata": {},
   "source": [
    "In this project, we aimed to develop a model that can analyze subscribers' behavior and recommend one of Megaline's newer plans: Smart or Ultra. The accuracy of the model needed to meet or exceed a threshold of 0.75. After conducting data preprocessing, we developed three classification models: Decision Tree Classifier, Random Forest Classifier, and Logistic Regression, and evaluated their performance using the test set. The calculation results are shown in a table:\n",
    "\n",
    "\n",
    "| Model | Valid Set Accuracy | Test Set Accuracy | True Positive | False Positive | False Negative | True Negative | Precision | Recall |\n",
    "| --- | --- | --- | --- | --- | --- | --- | --- | --- | \n",
    "| Decision Tree | 0.77 | 0.79 | 86 | 29 | 110 | 421 | 0.77 | 0.44 | \n",
    "| --- | --- | --- | --- | --- | --- | --- | --- | --- | \n",
    "| Random Forest | 0.80 | 0.79 | 101 | 43 | 95 | 404 | 0.70 | 0.52 | \n",
    "| --- | --- | --- | --- | --- | --- | --- | --- | --- | \n",
    "| Logistic Regression  | 0.73 | 0.75 | 39 | 3 | 157 | 444 | 0.93 | 0.20 | \n",
    "\n",
    "Conclusions:\n",
    "\n",
    "* Decision Tree Model: The best Decision Tree model has an optimal depth of 7. It achieved an accuracy of approximately 0.79 on the test set. The model's precision is 0.77, indicating that when it predicts a subscriber as \"Ultra,\" it is correct around 77% of the time. However, its recall is 0.44, meaning it may miss identifying around 56% of the actual \"Ultra\" subscribers.\n",
    "\n",
    "* Random Forest Model: The best Random Forest model has an optimal number of trees of 20 and an optimal depth of 15. It achieved an accuracy of approximately 0.79 on the test set. The model's precision is 0.70, and the recall is 0.52, indicating a balanced performance in correctly predicting \"Ultra\" subscribers. Random Forest model achieved the highest accuracy on both the validation and test sets.\n",
    "\n",
    "* Logistic Regression Model: The best Logistic Regression model uses the 'liblinear' solver. It achieved an accuracy of approximately 0.75 on the test set. The model's precision is relatively high at 0.93, indicating that when it predicts a subscriber as \"Ultra,\" it is correct around 93% of the time. However, its recall is relatively low at 0.20, suggesting that it is not very effective at correctly identifying \"Ultra\" subscribers, capturing only around 20% of the actual \"Ultra\" subscribers.\n",
    "\n",
    "* Threshold: For all models, the accuracy on the test set met the threshold of 0.75, indicating that the models perform better than chance.\n",
    "\n",
    "Model Recommendations:\n",
    "\n",
    "The Random Forest Classifier is the recommended model for this task. It achieved the highest overall accuracy and demonstrated a balanced precision and recall, making it well-suited for predicting subscribers' behavior and recommending plans. Additionally, the Random Forest model's ability to handle various data distributions and avoid overfitting contributes to its robustness and reliability."
   ]
  }
 ],
 "metadata": {
  "kernelspec": {
   "display_name": "Python 3 (ipykernel)",
   "language": "python",
   "name": "python3"
  },
  "language_info": {
   "codemirror_mode": {
    "name": "ipython",
    "version": 3
   },
   "file_extension": ".py",
   "mimetype": "text/x-python",
   "name": "python",
   "nbconvert_exporter": "python",
   "pygments_lexer": "ipython3",
   "version": "3.9.5"
  },
  "toc": {
   "base_numbering": 1,
   "nav_menu": {},
   "number_sections": true,
   "sideBar": true,
   "skip_h1_title": true,
   "title_cell": "Table of Contents",
   "title_sidebar": "Contents",
   "toc_cell": false,
   "toc_position": {},
   "toc_section_display": true,
   "toc_window_display": false
  }
 },
 "nbformat": 4,
 "nbformat_minor": 2
}
