{
 "cells": [
  {
   "cell_type": "markdown",
   "id": "afea19bc",
   "metadata": {},
   "source": [
    "# Instacart Customer Behavior and Product Analysis"
   ]
  },
  {
   "cell_type": "markdown",
   "id": "3a88a82e",
   "metadata": {},
   "source": [
    "# Contents <a id='back'></a>\n",
    "\n",
    "* [Introduction](#intro)\n",
    "* [Stage 1. Data overview](#data_overview)\n",
    "* [Stage 2. Data preprocessing](#data_preprocessing)\n",
    "* [Stage 3. Data analyzing](#data_analyzing)\n",
    "* [Findings](#end)"
   ]
  },
  {
   "cell_type": "markdown",
   "id": "4d13ac57",
   "metadata": {},
   "source": [
    "# Introduction \n",
    "\n",
    "\n",
    "# Data Description <a id='intro'></a>\n",
    "\n",
    "This project is to analyze the data stored in Instacart dataset. That dataset consists of five tables: `'instacart_orders.csv'`, `'products.csv'`, `'aisles.csv'`, `'departments.csv'`, `'order_products.csv'`.\n",
    "This particular dataset was publicly released by Instacart in 2017 for a Kaggle competition. The size of the dataset was redused so that calculations run faster, and missing and duplicate values were introduced. \n",
    "The purpose is to clean up the data and prepare a report that gives insight into the shopping habits of Instacart customers. \n",
    " \n",
    "This project consists of three stages:\n",
    " 1. Data overview\n",
    " 2. Data preprocessing\n",
    " 3. Analyzing data\n",
    " \n",
    "[Back to Contents](#back)"
   ]
  },
  {
   "cell_type": "markdown",
   "id": "69b7c467",
   "metadata": {},
   "source": [
    "# Stage 1. Data overview  <a id='data_overview'></a>\n",
    "\n",
    "Open the data and explore it."
   ]
  },
  {
   "cell_type": "code",
   "execution_count": 1,
   "id": "a967c0d4",
   "metadata": {},
   "outputs": [],
   "source": [
    "# importing pandas, numpy and plotly.express libraries\n",
    "import pandas as pd\n",
    "import numpy as np\n",
    "import matplotlib.pyplot as plt"
   ]
  },
  {
   "cell_type": "code",
   "execution_count": 2,
   "id": "ad36396d",
   "metadata": {},
   "outputs": [],
   "source": [
    "# uploading each table from dataset with separator ';'\n",
    "orders = pd.read_csv('/datasets/instacart_orders.csv', sep = ';')\n",
    "products = pd.read_csv('/datasets/products.csv', sep = ';')\n",
    "aisles = pd.read_csv('/datasets/aisles.csv', sep = ';')\n",
    "departments = pd.read_csv('/datasets/departments.csv', sep = ';')\n",
    "order_products = pd.read_csv('//datasets/order_products.csv', sep = ';')"
   ]
  },
  {
   "cell_type": "code",
   "execution_count": 3,
   "id": "ad6a1efa",
   "metadata": {},
   "outputs": [
    {
     "data": {
      "text/html": [
       "<div>\n",
       "<style scoped>\n",
       "    .dataframe tbody tr th:only-of-type {\n",
       "        vertical-align: middle;\n",
       "    }\n",
       "\n",
       "    .dataframe tbody tr th {\n",
       "        vertical-align: top;\n",
       "    }\n",
       "\n",
       "    .dataframe thead th {\n",
       "        text-align: right;\n",
       "    }\n",
       "</style>\n",
       "<table border=\"1\" class=\"dataframe\">\n",
       "  <thead>\n",
       "    <tr style=\"text-align: right;\">\n",
       "      <th></th>\n",
       "      <th>order_id</th>\n",
       "      <th>user_id</th>\n",
       "      <th>order_number</th>\n",
       "      <th>order_dow</th>\n",
       "      <th>order_hour_of_day</th>\n",
       "      <th>days_since_prior_order</th>\n",
       "    </tr>\n",
       "  </thead>\n",
       "  <tbody>\n",
       "    <tr>\n",
       "      <th>0</th>\n",
       "      <td>1515936</td>\n",
       "      <td>183418</td>\n",
       "      <td>11</td>\n",
       "      <td>6</td>\n",
       "      <td>13</td>\n",
       "      <td>30.0</td>\n",
       "    </tr>\n",
       "    <tr>\n",
       "      <th>1</th>\n",
       "      <td>1690866</td>\n",
       "      <td>163593</td>\n",
       "      <td>5</td>\n",
       "      <td>5</td>\n",
       "      <td>12</td>\n",
       "      <td>9.0</td>\n",
       "    </tr>\n",
       "    <tr>\n",
       "      <th>2</th>\n",
       "      <td>1454967</td>\n",
       "      <td>39980</td>\n",
       "      <td>4</td>\n",
       "      <td>5</td>\n",
       "      <td>19</td>\n",
       "      <td>2.0</td>\n",
       "    </tr>\n",
       "    <tr>\n",
       "      <th>3</th>\n",
       "      <td>1768857</td>\n",
       "      <td>82516</td>\n",
       "      <td>56</td>\n",
       "      <td>0</td>\n",
       "      <td>20</td>\n",
       "      <td>10.0</td>\n",
       "    </tr>\n",
       "    <tr>\n",
       "      <th>4</th>\n",
       "      <td>3007858</td>\n",
       "      <td>196724</td>\n",
       "      <td>2</td>\n",
       "      <td>4</td>\n",
       "      <td>12</td>\n",
       "      <td>17.0</td>\n",
       "    </tr>\n",
       "    <tr>\n",
       "      <th>5</th>\n",
       "      <td>1843871</td>\n",
       "      <td>20084</td>\n",
       "      <td>5</td>\n",
       "      <td>0</td>\n",
       "      <td>11</td>\n",
       "      <td>15.0</td>\n",
       "    </tr>\n",
       "    <tr>\n",
       "      <th>6</th>\n",
       "      <td>2511640</td>\n",
       "      <td>148233</td>\n",
       "      <td>40</td>\n",
       "      <td>3</td>\n",
       "      <td>8</td>\n",
       "      <td>2.0</td>\n",
       "    </tr>\n",
       "    <tr>\n",
       "      <th>7</th>\n",
       "      <td>2521283</td>\n",
       "      <td>97711</td>\n",
       "      <td>2</td>\n",
       "      <td>0</td>\n",
       "      <td>18</td>\n",
       "      <td>22.0</td>\n",
       "    </tr>\n",
       "    <tr>\n",
       "      <th>8</th>\n",
       "      <td>2266494</td>\n",
       "      <td>34954</td>\n",
       "      <td>40</td>\n",
       "      <td>5</td>\n",
       "      <td>15</td>\n",
       "      <td>4.0</td>\n",
       "    </tr>\n",
       "    <tr>\n",
       "      <th>9</th>\n",
       "      <td>446014</td>\n",
       "      <td>15356</td>\n",
       "      <td>2</td>\n",
       "      <td>4</td>\n",
       "      <td>8</td>\n",
       "      <td>10.0</td>\n",
       "    </tr>\n",
       "  </tbody>\n",
       "</table>\n",
       "</div>"
      ],
      "text/plain": [
       "   order_id  user_id  order_number  order_dow  order_hour_of_day  \\\n",
       "0   1515936   183418            11          6                 13   \n",
       "1   1690866   163593             5          5                 12   \n",
       "2   1454967    39980             4          5                 19   \n",
       "3   1768857    82516            56          0                 20   \n",
       "4   3007858   196724             2          4                 12   \n",
       "5   1843871    20084             5          0                 11   \n",
       "6   2511640   148233            40          3                  8   \n",
       "7   2521283    97711             2          0                 18   \n",
       "8   2266494    34954            40          5                 15   \n",
       "9    446014    15356             2          4                  8   \n",
       "\n",
       "   days_since_prior_order  \n",
       "0                    30.0  \n",
       "1                     9.0  \n",
       "2                     2.0  \n",
       "3                    10.0  \n",
       "4                    17.0  \n",
       "5                    15.0  \n",
       "6                     2.0  \n",
       "7                    22.0  \n",
       "8                     4.0  \n",
       "9                    10.0  "
      ]
     },
     "metadata": {},
     "output_type": "display_data"
    },
    {
     "name": "stdout",
     "output_type": "stream",
     "text": [
      "\n",
      "<class 'pandas.core.frame.DataFrame'>\n",
      "RangeIndex: 478967 entries, 0 to 478966\n",
      "Data columns (total 6 columns):\n",
      " #   Column                  Non-Null Count   Dtype  \n",
      "---  ------                  --------------   -----  \n",
      " 0   order_id                478967 non-null  int64  \n",
      " 1   user_id                 478967 non-null  int64  \n",
      " 2   order_number            478967 non-null  int64  \n",
      " 3   order_dow               478967 non-null  int64  \n",
      " 4   order_hour_of_day       478967 non-null  int64  \n",
      " 5   days_since_prior_order  450148 non-null  float64\n",
      "dtypes: float64(1), int64(5)\n",
      "memory usage: 21.9 MB\n"
     ]
    }
   ],
   "source": [
    "# examening data from instacart_orders\n",
    "display(orders.head(10))\n",
    "print()\n",
    "orders.info()"
   ]
  },
  {
   "cell_type": "code",
   "execution_count": 4,
   "id": "5130e05e",
   "metadata": {},
   "outputs": [
    {
     "data": {
      "text/html": [
       "<div>\n",
       "<style scoped>\n",
       "    .dataframe tbody tr th:only-of-type {\n",
       "        vertical-align: middle;\n",
       "    }\n",
       "\n",
       "    .dataframe tbody tr th {\n",
       "        vertical-align: top;\n",
       "    }\n",
       "\n",
       "    .dataframe thead th {\n",
       "        text-align: right;\n",
       "    }\n",
       "</style>\n",
       "<table border=\"1\" class=\"dataframe\">\n",
       "  <thead>\n",
       "    <tr style=\"text-align: right;\">\n",
       "      <th></th>\n",
       "      <th>product_id</th>\n",
       "      <th>product_name</th>\n",
       "      <th>aisle_id</th>\n",
       "      <th>department_id</th>\n",
       "    </tr>\n",
       "  </thead>\n",
       "  <tbody>\n",
       "    <tr>\n",
       "      <th>0</th>\n",
       "      <td>1</td>\n",
       "      <td>Chocolate Sandwich Cookies</td>\n",
       "      <td>61</td>\n",
       "      <td>19</td>\n",
       "    </tr>\n",
       "    <tr>\n",
       "      <th>1</th>\n",
       "      <td>2</td>\n",
       "      <td>All-Seasons Salt</td>\n",
       "      <td>104</td>\n",
       "      <td>13</td>\n",
       "    </tr>\n",
       "    <tr>\n",
       "      <th>2</th>\n",
       "      <td>3</td>\n",
       "      <td>Robust Golden Unsweetened Oolong Tea</td>\n",
       "      <td>94</td>\n",
       "      <td>7</td>\n",
       "    </tr>\n",
       "    <tr>\n",
       "      <th>3</th>\n",
       "      <td>4</td>\n",
       "      <td>Smart Ones Classic Favorites Mini Rigatoni Wit...</td>\n",
       "      <td>38</td>\n",
       "      <td>1</td>\n",
       "    </tr>\n",
       "    <tr>\n",
       "      <th>4</th>\n",
       "      <td>5</td>\n",
       "      <td>Green Chile Anytime Sauce</td>\n",
       "      <td>5</td>\n",
       "      <td>13</td>\n",
       "    </tr>\n",
       "    <tr>\n",
       "      <th>5</th>\n",
       "      <td>6</td>\n",
       "      <td>Dry Nose Oil</td>\n",
       "      <td>11</td>\n",
       "      <td>11</td>\n",
       "    </tr>\n",
       "    <tr>\n",
       "      <th>6</th>\n",
       "      <td>7</td>\n",
       "      <td>Pure Coconut Water With Orange</td>\n",
       "      <td>98</td>\n",
       "      <td>7</td>\n",
       "    </tr>\n",
       "    <tr>\n",
       "      <th>7</th>\n",
       "      <td>8</td>\n",
       "      <td>Cut Russet Potatoes Steam N' Mash</td>\n",
       "      <td>116</td>\n",
       "      <td>1</td>\n",
       "    </tr>\n",
       "    <tr>\n",
       "      <th>8</th>\n",
       "      <td>9</td>\n",
       "      <td>Light Strawberry Blueberry Yogurt</td>\n",
       "      <td>120</td>\n",
       "      <td>16</td>\n",
       "    </tr>\n",
       "    <tr>\n",
       "      <th>9</th>\n",
       "      <td>10</td>\n",
       "      <td>Sparkling Orange Juice &amp; Prickly Pear Beverage</td>\n",
       "      <td>115</td>\n",
       "      <td>7</td>\n",
       "    </tr>\n",
       "  </tbody>\n",
       "</table>\n",
       "</div>"
      ],
      "text/plain": [
       "   product_id                                       product_name  aisle_id  \\\n",
       "0           1                         Chocolate Sandwich Cookies        61   \n",
       "1           2                                   All-Seasons Salt       104   \n",
       "2           3               Robust Golden Unsweetened Oolong Tea        94   \n",
       "3           4  Smart Ones Classic Favorites Mini Rigatoni Wit...        38   \n",
       "4           5                          Green Chile Anytime Sauce         5   \n",
       "5           6                                       Dry Nose Oil        11   \n",
       "6           7                     Pure Coconut Water With Orange        98   \n",
       "7           8                  Cut Russet Potatoes Steam N' Mash       116   \n",
       "8           9                  Light Strawberry Blueberry Yogurt       120   \n",
       "9          10     Sparkling Orange Juice & Prickly Pear Beverage       115   \n",
       "\n",
       "   department_id  \n",
       "0             19  \n",
       "1             13  \n",
       "2              7  \n",
       "3              1  \n",
       "4             13  \n",
       "5             11  \n",
       "6              7  \n",
       "7              1  \n",
       "8             16  \n",
       "9              7  "
      ]
     },
     "metadata": {},
     "output_type": "display_data"
    },
    {
     "name": "stdout",
     "output_type": "stream",
     "text": [
      "\n",
      "<class 'pandas.core.frame.DataFrame'>\n",
      "RangeIndex: 49694 entries, 0 to 49693\n",
      "Data columns (total 4 columns):\n",
      " #   Column         Non-Null Count  Dtype \n",
      "---  ------         --------------  ----- \n",
      " 0   product_id     49694 non-null  int64 \n",
      " 1   product_name   48436 non-null  object\n",
      " 2   aisle_id       49694 non-null  int64 \n",
      " 3   department_id  49694 non-null  int64 \n",
      "dtypes: int64(3), object(1)\n",
      "memory usage: 1.5+ MB\n"
     ]
    }
   ],
   "source": [
    "# examening data from products\n",
    "display(products.head(10))\n",
    "print()\n",
    "products.info()"
   ]
  },
  {
   "cell_type": "code",
   "execution_count": 5,
   "id": "d8370c05",
   "metadata": {},
   "outputs": [
    {
     "data": {
      "text/html": [
       "<div>\n",
       "<style scoped>\n",
       "    .dataframe tbody tr th:only-of-type {\n",
       "        vertical-align: middle;\n",
       "    }\n",
       "\n",
       "    .dataframe tbody tr th {\n",
       "        vertical-align: top;\n",
       "    }\n",
       "\n",
       "    .dataframe thead th {\n",
       "        text-align: right;\n",
       "    }\n",
       "</style>\n",
       "<table border=\"1\" class=\"dataframe\">\n",
       "  <thead>\n",
       "    <tr style=\"text-align: right;\">\n",
       "      <th></th>\n",
       "      <th>aisle_id</th>\n",
       "      <th>aisle</th>\n",
       "    </tr>\n",
       "  </thead>\n",
       "  <tbody>\n",
       "    <tr>\n",
       "      <th>0</th>\n",
       "      <td>1</td>\n",
       "      <td>prepared soups salads</td>\n",
       "    </tr>\n",
       "    <tr>\n",
       "      <th>1</th>\n",
       "      <td>2</td>\n",
       "      <td>specialty cheeses</td>\n",
       "    </tr>\n",
       "    <tr>\n",
       "      <th>2</th>\n",
       "      <td>3</td>\n",
       "      <td>energy granola bars</td>\n",
       "    </tr>\n",
       "    <tr>\n",
       "      <th>3</th>\n",
       "      <td>4</td>\n",
       "      <td>instant foods</td>\n",
       "    </tr>\n",
       "    <tr>\n",
       "      <th>4</th>\n",
       "      <td>5</td>\n",
       "      <td>marinades meat preparation</td>\n",
       "    </tr>\n",
       "    <tr>\n",
       "      <th>5</th>\n",
       "      <td>6</td>\n",
       "      <td>other</td>\n",
       "    </tr>\n",
       "    <tr>\n",
       "      <th>6</th>\n",
       "      <td>7</td>\n",
       "      <td>packaged meat</td>\n",
       "    </tr>\n",
       "    <tr>\n",
       "      <th>7</th>\n",
       "      <td>8</td>\n",
       "      <td>bakery desserts</td>\n",
       "    </tr>\n",
       "    <tr>\n",
       "      <th>8</th>\n",
       "      <td>9</td>\n",
       "      <td>pasta sauce</td>\n",
       "    </tr>\n",
       "    <tr>\n",
       "      <th>9</th>\n",
       "      <td>10</td>\n",
       "      <td>kitchen supplies</td>\n",
       "    </tr>\n",
       "  </tbody>\n",
       "</table>\n",
       "</div>"
      ],
      "text/plain": [
       "   aisle_id                       aisle\n",
       "0         1       prepared soups salads\n",
       "1         2           specialty cheeses\n",
       "2         3         energy granola bars\n",
       "3         4               instant foods\n",
       "4         5  marinades meat preparation\n",
       "5         6                       other\n",
       "6         7               packaged meat\n",
       "7         8             bakery desserts\n",
       "8         9                 pasta sauce\n",
       "9        10            kitchen supplies"
      ]
     },
     "metadata": {},
     "output_type": "display_data"
    },
    {
     "name": "stdout",
     "output_type": "stream",
     "text": [
      "\n",
      "<class 'pandas.core.frame.DataFrame'>\n",
      "RangeIndex: 134 entries, 0 to 133\n",
      "Data columns (total 2 columns):\n",
      " #   Column    Non-Null Count  Dtype \n",
      "---  ------    --------------  ----- \n",
      " 0   aisle_id  134 non-null    int64 \n",
      " 1   aisle     134 non-null    object\n",
      "dtypes: int64(1), object(1)\n",
      "memory usage: 2.2+ KB\n"
     ]
    }
   ],
   "source": [
    "# examening data from aisles\n",
    "display(aisles.head(10))\n",
    "print()\n",
    "aisles.info()"
   ]
  },
  {
   "cell_type": "code",
   "execution_count": 6,
   "id": "59e2090f",
   "metadata": {},
   "outputs": [
    {
     "data": {
      "text/html": [
       "<div>\n",
       "<style scoped>\n",
       "    .dataframe tbody tr th:only-of-type {\n",
       "        vertical-align: middle;\n",
       "    }\n",
       "\n",
       "    .dataframe tbody tr th {\n",
       "        vertical-align: top;\n",
       "    }\n",
       "\n",
       "    .dataframe thead th {\n",
       "        text-align: right;\n",
       "    }\n",
       "</style>\n",
       "<table border=\"1\" class=\"dataframe\">\n",
       "  <thead>\n",
       "    <tr style=\"text-align: right;\">\n",
       "      <th></th>\n",
       "      <th>department_id</th>\n",
       "      <th>department</th>\n",
       "    </tr>\n",
       "  </thead>\n",
       "  <tbody>\n",
       "    <tr>\n",
       "      <th>0</th>\n",
       "      <td>1</td>\n",
       "      <td>frozen</td>\n",
       "    </tr>\n",
       "    <tr>\n",
       "      <th>1</th>\n",
       "      <td>2</td>\n",
       "      <td>other</td>\n",
       "    </tr>\n",
       "    <tr>\n",
       "      <th>2</th>\n",
       "      <td>3</td>\n",
       "      <td>bakery</td>\n",
       "    </tr>\n",
       "    <tr>\n",
       "      <th>3</th>\n",
       "      <td>4</td>\n",
       "      <td>produce</td>\n",
       "    </tr>\n",
       "    <tr>\n",
       "      <th>4</th>\n",
       "      <td>5</td>\n",
       "      <td>alcohol</td>\n",
       "    </tr>\n",
       "    <tr>\n",
       "      <th>5</th>\n",
       "      <td>6</td>\n",
       "      <td>international</td>\n",
       "    </tr>\n",
       "    <tr>\n",
       "      <th>6</th>\n",
       "      <td>7</td>\n",
       "      <td>beverages</td>\n",
       "    </tr>\n",
       "    <tr>\n",
       "      <th>7</th>\n",
       "      <td>8</td>\n",
       "      <td>pets</td>\n",
       "    </tr>\n",
       "    <tr>\n",
       "      <th>8</th>\n",
       "      <td>9</td>\n",
       "      <td>dry goods pasta</td>\n",
       "    </tr>\n",
       "    <tr>\n",
       "      <th>9</th>\n",
       "      <td>10</td>\n",
       "      <td>bulk</td>\n",
       "    </tr>\n",
       "  </tbody>\n",
       "</table>\n",
       "</div>"
      ],
      "text/plain": [
       "   department_id       department\n",
       "0              1           frozen\n",
       "1              2            other\n",
       "2              3           bakery\n",
       "3              4          produce\n",
       "4              5          alcohol\n",
       "5              6    international\n",
       "6              7        beverages\n",
       "7              8             pets\n",
       "8              9  dry goods pasta\n",
       "9             10             bulk"
      ]
     },
     "metadata": {},
     "output_type": "display_data"
    },
    {
     "name": "stdout",
     "output_type": "stream",
     "text": [
      "\n",
      "<class 'pandas.core.frame.DataFrame'>\n",
      "RangeIndex: 21 entries, 0 to 20\n",
      "Data columns (total 2 columns):\n",
      " #   Column         Non-Null Count  Dtype \n",
      "---  ------         --------------  ----- \n",
      " 0   department_id  21 non-null     int64 \n",
      " 1   department     21 non-null     object\n",
      "dtypes: int64(1), object(1)\n",
      "memory usage: 464.0+ bytes\n"
     ]
    }
   ],
   "source": [
    "# examening data from departments\n",
    "display(departments.head(10))\n",
    "print()\n",
    "departments.info()"
   ]
  },
  {
   "cell_type": "code",
   "execution_count": 7,
   "id": "6fc81694",
   "metadata": {},
   "outputs": [
    {
     "data": {
      "text/html": [
       "<div>\n",
       "<style scoped>\n",
       "    .dataframe tbody tr th:only-of-type {\n",
       "        vertical-align: middle;\n",
       "    }\n",
       "\n",
       "    .dataframe tbody tr th {\n",
       "        vertical-align: top;\n",
       "    }\n",
       "\n",
       "    .dataframe thead th {\n",
       "        text-align: right;\n",
       "    }\n",
       "</style>\n",
       "<table border=\"1\" class=\"dataframe\">\n",
       "  <thead>\n",
       "    <tr style=\"text-align: right;\">\n",
       "      <th></th>\n",
       "      <th>order_id</th>\n",
       "      <th>product_id</th>\n",
       "      <th>add_to_cart_order</th>\n",
       "      <th>reordered</th>\n",
       "    </tr>\n",
       "  </thead>\n",
       "  <tbody>\n",
       "    <tr>\n",
       "      <th>0</th>\n",
       "      <td>2141543</td>\n",
       "      <td>11440</td>\n",
       "      <td>17.0</td>\n",
       "      <td>0</td>\n",
       "    </tr>\n",
       "    <tr>\n",
       "      <th>1</th>\n",
       "      <td>567889</td>\n",
       "      <td>1560</td>\n",
       "      <td>1.0</td>\n",
       "      <td>1</td>\n",
       "    </tr>\n",
       "    <tr>\n",
       "      <th>2</th>\n",
       "      <td>2261212</td>\n",
       "      <td>26683</td>\n",
       "      <td>1.0</td>\n",
       "      <td>1</td>\n",
       "    </tr>\n",
       "    <tr>\n",
       "      <th>3</th>\n",
       "      <td>491251</td>\n",
       "      <td>8670</td>\n",
       "      <td>35.0</td>\n",
       "      <td>1</td>\n",
       "    </tr>\n",
       "    <tr>\n",
       "      <th>4</th>\n",
       "      <td>2571142</td>\n",
       "      <td>1940</td>\n",
       "      <td>5.0</td>\n",
       "      <td>1</td>\n",
       "    </tr>\n",
       "    <tr>\n",
       "      <th>5</th>\n",
       "      <td>2456893</td>\n",
       "      <td>21616</td>\n",
       "      <td>4.0</td>\n",
       "      <td>1</td>\n",
       "    </tr>\n",
       "    <tr>\n",
       "      <th>6</th>\n",
       "      <td>644579</td>\n",
       "      <td>12341</td>\n",
       "      <td>5.0</td>\n",
       "      <td>1</td>\n",
       "    </tr>\n",
       "    <tr>\n",
       "      <th>7</th>\n",
       "      <td>2231852</td>\n",
       "      <td>44925</td>\n",
       "      <td>10.0</td>\n",
       "      <td>1</td>\n",
       "    </tr>\n",
       "    <tr>\n",
       "      <th>8</th>\n",
       "      <td>3185766</td>\n",
       "      <td>36259</td>\n",
       "      <td>14.0</td>\n",
       "      <td>1</td>\n",
       "    </tr>\n",
       "    <tr>\n",
       "      <th>9</th>\n",
       "      <td>420019</td>\n",
       "      <td>23315</td>\n",
       "      <td>4.0</td>\n",
       "      <td>1</td>\n",
       "    </tr>\n",
       "  </tbody>\n",
       "</table>\n",
       "</div>"
      ],
      "text/plain": [
       "   order_id  product_id  add_to_cart_order  reordered\n",
       "0   2141543       11440               17.0          0\n",
       "1    567889        1560                1.0          1\n",
       "2   2261212       26683                1.0          1\n",
       "3    491251        8670               35.0          1\n",
       "4   2571142        1940                5.0          1\n",
       "5   2456893       21616                4.0          1\n",
       "6    644579       12341                5.0          1\n",
       "7   2231852       44925               10.0          1\n",
       "8   3185766       36259               14.0          1\n",
       "9    420019       23315                4.0          1"
      ]
     },
     "metadata": {},
     "output_type": "display_data"
    },
    {
     "name": "stdout",
     "output_type": "stream",
     "text": [
      "\n",
      "<class 'pandas.core.frame.DataFrame'>\n",
      "RangeIndex: 4545007 entries, 0 to 4545006\n",
      "Data columns (total 4 columns):\n",
      " #   Column             Non-Null Count    Dtype  \n",
      "---  ------             --------------    -----  \n",
      " 0   order_id           4545007 non-null  int64  \n",
      " 1   product_id         4545007 non-null  int64  \n",
      " 2   add_to_cart_order  4544171 non-null  float64\n",
      " 3   reordered          4545007 non-null  int64  \n",
      "dtypes: float64(1), int64(3)\n",
      "memory usage: 138.7 MB\n"
     ]
    }
   ],
   "source": [
    "# examening data from order_products\n",
    "display(order_products.head(10))\n",
    "print()\n",
    "order_products.info(show_counts=True)"
   ]
  },
  {
   "cell_type": "markdown",
   "id": "bf95a8d7",
   "metadata": {},
   "source": [
    "## Conclusions \n",
    "\n",
    "The data consists of five tables that store data about Instacart orders (who bought, what, where, when, amount) and about products (name, department, aisle).\n",
    "\n",
    "It's clear that the data is sufficient to alalyze. However, there are missing values in `orders`, `products`, and `order_products` tables.\n",
    "\n",
    "To move forward, we need to preprocess the data."
   ]
  },
  {
   "cell_type": "markdown",
   "id": "f93c81f3",
   "metadata": {},
   "source": [
    "[Back to Contents](#back)"
   ]
  },
  {
   "cell_type": "markdown",
   "id": "df5e28b3",
   "metadata": {},
   "source": [
    "# Stage 2. Data preprocessing <a id='data_preprocessing'></a>"
   ]
  },
  {
   "cell_type": "markdown",
   "id": "07357848-dc64-4156-9cc3-01ff4365226d",
   "metadata": {},
   "source": [
    "## 2.1. Find and remove duplicate values (and describe why you make your choices) <a "
   ]
  },
  {
   "cell_type": "markdown",
   "id": "f179f0a9",
   "metadata": {},
   "source": [
    "### 2.1.1. `orders` data frame  "
   ]
  },
  {
   "cell_type": "code",
   "execution_count": 8,
   "id": "b848bd0c",
   "metadata": {
    "scrolled": true
   },
   "outputs": [
    {
     "data": {
      "text/plain": [
       "15"
      ]
     },
     "execution_count": 8,
     "metadata": {},
     "output_type": "execute_result"
    }
   ],
   "source": [
    "# checking for duplicated orders\n",
    "orders.duplicated().sum()"
   ]
  },
  {
   "cell_type": "markdown",
   "id": "605e91ad",
   "metadata": {},
   "source": [
    "Data has 15 duplicates. Let's look at them."
   ]
  },
  {
   "cell_type": "code",
   "execution_count": 9,
   "id": "b99297a5-405a-463d-8535-9adc3da4ad74",
   "metadata": {
    "scrolled": false
   },
   "outputs": [
    {
     "data": {
      "text/html": [
       "<div>\n",
       "<style scoped>\n",
       "    .dataframe tbody tr th:only-of-type {\n",
       "        vertical-align: middle;\n",
       "    }\n",
       "\n",
       "    .dataframe tbody tr th {\n",
       "        vertical-align: top;\n",
       "    }\n",
       "\n",
       "    .dataframe thead th {\n",
       "        text-align: right;\n",
       "    }\n",
       "</style>\n",
       "<table border=\"1\" class=\"dataframe\">\n",
       "  <thead>\n",
       "    <tr style=\"text-align: right;\">\n",
       "      <th></th>\n",
       "      <th>order_id</th>\n",
       "      <th>user_id</th>\n",
       "      <th>order_number</th>\n",
       "      <th>order_dow</th>\n",
       "      <th>order_hour_of_day</th>\n",
       "      <th>days_since_prior_order</th>\n",
       "    </tr>\n",
       "  </thead>\n",
       "  <tbody>\n",
       "    <tr>\n",
       "      <th>145574</th>\n",
       "      <td>794638</td>\n",
       "      <td>50898</td>\n",
       "      <td>24</td>\n",
       "      <td>3</td>\n",
       "      <td>2</td>\n",
       "      <td>2.0</td>\n",
       "    </tr>\n",
       "    <tr>\n",
       "      <th>223105</th>\n",
       "      <td>2160484</td>\n",
       "      <td>107525</td>\n",
       "      <td>16</td>\n",
       "      <td>3</td>\n",
       "      <td>2</td>\n",
       "      <td>30.0</td>\n",
       "    </tr>\n",
       "    <tr>\n",
       "      <th>230807</th>\n",
       "      <td>1918001</td>\n",
       "      <td>188546</td>\n",
       "      <td>14</td>\n",
       "      <td>3</td>\n",
       "      <td>2</td>\n",
       "      <td>16.0</td>\n",
       "    </tr>\n",
       "    <tr>\n",
       "      <th>266232</th>\n",
       "      <td>1782114</td>\n",
       "      <td>106752</td>\n",
       "      <td>1</td>\n",
       "      <td>3</td>\n",
       "      <td>2</td>\n",
       "      <td>NaN</td>\n",
       "    </tr>\n",
       "    <tr>\n",
       "      <th>273805</th>\n",
       "      <td>1112182</td>\n",
       "      <td>202304</td>\n",
       "      <td>84</td>\n",
       "      <td>3</td>\n",
       "      <td>2</td>\n",
       "      <td>6.0</td>\n",
       "    </tr>\n",
       "    <tr>\n",
       "      <th>284038</th>\n",
       "      <td>2845099</td>\n",
       "      <td>31189</td>\n",
       "      <td>11</td>\n",
       "      <td>3</td>\n",
       "      <td>2</td>\n",
       "      <td>7.0</td>\n",
       "    </tr>\n",
       "    <tr>\n",
       "      <th>311713</th>\n",
       "      <td>1021560</td>\n",
       "      <td>53767</td>\n",
       "      <td>3</td>\n",
       "      <td>3</td>\n",
       "      <td>2</td>\n",
       "      <td>9.0</td>\n",
       "    </tr>\n",
       "    <tr>\n",
       "      <th>321100</th>\n",
       "      <td>408114</td>\n",
       "      <td>68324</td>\n",
       "      <td>4</td>\n",
       "      <td>3</td>\n",
       "      <td>2</td>\n",
       "      <td>18.0</td>\n",
       "    </tr>\n",
       "    <tr>\n",
       "      <th>323900</th>\n",
       "      <td>1919531</td>\n",
       "      <td>191501</td>\n",
       "      <td>32</td>\n",
       "      <td>3</td>\n",
       "      <td>2</td>\n",
       "      <td>7.0</td>\n",
       "    </tr>\n",
       "    <tr>\n",
       "      <th>345917</th>\n",
       "      <td>2232988</td>\n",
       "      <td>82565</td>\n",
       "      <td>1</td>\n",
       "      <td>3</td>\n",
       "      <td>2</td>\n",
       "      <td>NaN</td>\n",
       "    </tr>\n",
       "    <tr>\n",
       "      <th>371905</th>\n",
       "      <td>391768</td>\n",
       "      <td>57671</td>\n",
       "      <td>19</td>\n",
       "      <td>3</td>\n",
       "      <td>2</td>\n",
       "      <td>10.0</td>\n",
       "    </tr>\n",
       "    <tr>\n",
       "      <th>394347</th>\n",
       "      <td>467134</td>\n",
       "      <td>63189</td>\n",
       "      <td>21</td>\n",
       "      <td>3</td>\n",
       "      <td>2</td>\n",
       "      <td>2.0</td>\n",
       "    </tr>\n",
       "    <tr>\n",
       "      <th>411408</th>\n",
       "      <td>1286742</td>\n",
       "      <td>183220</td>\n",
       "      <td>48</td>\n",
       "      <td>3</td>\n",
       "      <td>2</td>\n",
       "      <td>4.0</td>\n",
       "    </tr>\n",
       "    <tr>\n",
       "      <th>415163</th>\n",
       "      <td>2282673</td>\n",
       "      <td>86751</td>\n",
       "      <td>49</td>\n",
       "      <td>3</td>\n",
       "      <td>2</td>\n",
       "      <td>2.0</td>\n",
       "    </tr>\n",
       "    <tr>\n",
       "      <th>441599</th>\n",
       "      <td>2125197</td>\n",
       "      <td>14050</td>\n",
       "      <td>48</td>\n",
       "      <td>3</td>\n",
       "      <td>2</td>\n",
       "      <td>3.0</td>\n",
       "    </tr>\n",
       "  </tbody>\n",
       "</table>\n",
       "</div>"
      ],
      "text/plain": [
       "        order_id  user_id  order_number  order_dow  order_hour_of_day  \\\n",
       "145574    794638    50898            24          3                  2   \n",
       "223105   2160484   107525            16          3                  2   \n",
       "230807   1918001   188546            14          3                  2   \n",
       "266232   1782114   106752             1          3                  2   \n",
       "273805   1112182   202304            84          3                  2   \n",
       "284038   2845099    31189            11          3                  2   \n",
       "311713   1021560    53767             3          3                  2   \n",
       "321100    408114    68324             4          3                  2   \n",
       "323900   1919531   191501            32          3                  2   \n",
       "345917   2232988    82565             1          3                  2   \n",
       "371905    391768    57671            19          3                  2   \n",
       "394347    467134    63189            21          3                  2   \n",
       "411408   1286742   183220            48          3                  2   \n",
       "415163   2282673    86751            49          3                  2   \n",
       "441599   2125197    14050            48          3                  2   \n",
       "\n",
       "        days_since_prior_order  \n",
       "145574                     2.0  \n",
       "223105                    30.0  \n",
       "230807                    16.0  \n",
       "266232                     NaN  \n",
       "273805                     6.0  \n",
       "284038                     7.0  \n",
       "311713                     9.0  \n",
       "321100                    18.0  \n",
       "323900                     7.0  \n",
       "345917                     NaN  \n",
       "371905                    10.0  \n",
       "394347                     2.0  \n",
       "411408                     4.0  \n",
       "415163                     2.0  \n",
       "441599                     3.0  "
      ]
     },
     "execution_count": 9,
     "metadata": {},
     "output_type": "execute_result"
    }
   ],
   "source": [
    "# printing table with duplicates\n",
    "orders[orders.duplicated()]"
   ]
  },
  {
   "cell_type": "markdown",
   "id": "f41e104c",
   "metadata": {},
   "source": [
    "We can see that all duplicated orders were placed on Wednesday (`'order_dow'` = 3) at 2:00 AM (`'order_hour_of_day'` = 2). Let's check all orders placed on that day and time."
   ]
  },
  {
   "cell_type": "code",
   "execution_count": 10,
   "id": "0d44de5d",
   "metadata": {
    "scrolled": true
   },
   "outputs": [
    {
     "data": {
      "text/html": [
       "<div>\n",
       "<style scoped>\n",
       "    .dataframe tbody tr th:only-of-type {\n",
       "        vertical-align: middle;\n",
       "    }\n",
       "\n",
       "    .dataframe tbody tr th {\n",
       "        vertical-align: top;\n",
       "    }\n",
       "\n",
       "    .dataframe thead th {\n",
       "        text-align: right;\n",
       "    }\n",
       "</style>\n",
       "<table border=\"1\" class=\"dataframe\">\n",
       "  <thead>\n",
       "    <tr style=\"text-align: right;\">\n",
       "      <th></th>\n",
       "      <th>order_id</th>\n",
       "      <th>user_id</th>\n",
       "      <th>order_number</th>\n",
       "      <th>order_dow</th>\n",
       "      <th>order_hour_of_day</th>\n",
       "      <th>days_since_prior_order</th>\n",
       "    </tr>\n",
       "  </thead>\n",
       "  <tbody>\n",
       "    <tr>\n",
       "      <th>4838</th>\n",
       "      <td>2766110</td>\n",
       "      <td>162084</td>\n",
       "      <td>41</td>\n",
       "      <td>3</td>\n",
       "      <td>2</td>\n",
       "      <td>16.0</td>\n",
       "    </tr>\n",
       "    <tr>\n",
       "      <th>5156</th>\n",
       "      <td>2190225</td>\n",
       "      <td>138285</td>\n",
       "      <td>18</td>\n",
       "      <td>3</td>\n",
       "      <td>2</td>\n",
       "      <td>11.0</td>\n",
       "    </tr>\n",
       "    <tr>\n",
       "      <th>15506</th>\n",
       "      <td>553049</td>\n",
       "      <td>58599</td>\n",
       "      <td>13</td>\n",
       "      <td>3</td>\n",
       "      <td>2</td>\n",
       "      <td>7.0</td>\n",
       "    </tr>\n",
       "    <tr>\n",
       "      <th>18420</th>\n",
       "      <td>382357</td>\n",
       "      <td>120200</td>\n",
       "      <td>19</td>\n",
       "      <td>3</td>\n",
       "      <td>2</td>\n",
       "      <td>11.0</td>\n",
       "    </tr>\n",
       "    <tr>\n",
       "      <th>24691</th>\n",
       "      <td>690242</td>\n",
       "      <td>77357</td>\n",
       "      <td>2</td>\n",
       "      <td>3</td>\n",
       "      <td>2</td>\n",
       "      <td>9.0</td>\n",
       "    </tr>\n",
       "    <tr>\n",
       "      <th>...</th>\n",
       "      <td>...</td>\n",
       "      <td>...</td>\n",
       "      <td>...</td>\n",
       "      <td>...</td>\n",
       "      <td>...</td>\n",
       "      <td>...</td>\n",
       "    </tr>\n",
       "    <tr>\n",
       "      <th>457013</th>\n",
       "      <td>3384021</td>\n",
       "      <td>14881</td>\n",
       "      <td>6</td>\n",
       "      <td>3</td>\n",
       "      <td>2</td>\n",
       "      <td>30.0</td>\n",
       "    </tr>\n",
       "    <tr>\n",
       "      <th>458816</th>\n",
       "      <td>910166</td>\n",
       "      <td>164782</td>\n",
       "      <td>18</td>\n",
       "      <td>3</td>\n",
       "      <td>2</td>\n",
       "      <td>4.0</td>\n",
       "    </tr>\n",
       "    <tr>\n",
       "      <th>459635</th>\n",
       "      <td>1680532</td>\n",
       "      <td>106435</td>\n",
       "      <td>6</td>\n",
       "      <td>3</td>\n",
       "      <td>2</td>\n",
       "      <td>21.0</td>\n",
       "    </tr>\n",
       "    <tr>\n",
       "      <th>468324</th>\n",
       "      <td>222962</td>\n",
       "      <td>54979</td>\n",
       "      <td>59</td>\n",
       "      <td>3</td>\n",
       "      <td>2</td>\n",
       "      <td>3.0</td>\n",
       "    </tr>\n",
       "    <tr>\n",
       "      <th>477526</th>\n",
       "      <td>2592344</td>\n",
       "      <td>46860</td>\n",
       "      <td>38</td>\n",
       "      <td>3</td>\n",
       "      <td>2</td>\n",
       "      <td>3.0</td>\n",
       "    </tr>\n",
       "  </tbody>\n",
       "</table>\n",
       "<p>121 rows × 6 columns</p>\n",
       "</div>"
      ],
      "text/plain": [
       "        order_id  user_id  order_number  order_dow  order_hour_of_day  \\\n",
       "4838     2766110   162084            41          3                  2   \n",
       "5156     2190225   138285            18          3                  2   \n",
       "15506     553049    58599            13          3                  2   \n",
       "18420     382357   120200            19          3                  2   \n",
       "24691     690242    77357             2          3                  2   \n",
       "...          ...      ...           ...        ...                ...   \n",
       "457013   3384021    14881             6          3                  2   \n",
       "458816    910166   164782            18          3                  2   \n",
       "459635   1680532   106435             6          3                  2   \n",
       "468324    222962    54979            59          3                  2   \n",
       "477526   2592344    46860            38          3                  2   \n",
       "\n",
       "        days_since_prior_order  \n",
       "4838                      16.0  \n",
       "5156                      11.0  \n",
       "15506                      7.0  \n",
       "18420                     11.0  \n",
       "24691                      9.0  \n",
       "...                        ...  \n",
       "457013                    30.0  \n",
       "458816                     4.0  \n",
       "459635                    21.0  \n",
       "468324                     3.0  \n",
       "477526                     3.0  \n",
       "\n",
       "[121 rows x 6 columns]"
      ]
     },
     "execution_count": 10,
     "metadata": {},
     "output_type": "execute_result"
    }
   ],
   "source": [
    "# checking for all orders placed Wednesday at 2:00 AM\n",
    "orders[(orders['order_dow'] == 3) & (orders['order_hour_of_day'] == 2)]"
   ]
  },
  {
   "cell_type": "markdown",
   "id": "f0795514",
   "metadata": {},
   "source": [
    "We can see that 121 orders were placed on Wednesday at 2AM, of which 15 were duplicated. Each order has unique order id, and we only interested in the unique orders in our analysis. Probably some rows were added to table twice by mistake. Let's remove those duplicates from the table."
   ]
  },
  {
   "cell_type": "code",
   "execution_count": 11,
   "id": "480563c7",
   "metadata": {},
   "outputs": [],
   "source": [
    "# Remove duplicate orders\n",
    "orders = orders.drop_duplicates()"
   ]
  },
  {
   "cell_type": "code",
   "execution_count": 12,
   "id": "0b2396a2",
   "metadata": {},
   "outputs": [
    {
     "data": {
      "text/plain": [
       "0"
      ]
     },
     "execution_count": 12,
     "metadata": {},
     "output_type": "execute_result"
    }
   ],
   "source": [
    "# Double check for duplicate rows\n",
    "orders.duplicated().sum()"
   ]
  },
  {
   "cell_type": "code",
   "execution_count": 13,
   "id": "f6113ef1",
   "metadata": {
    "scrolled": true
   },
   "outputs": [
    {
     "data": {
      "text/plain": [
       "order_id                  0.0\n",
       "user_id                   0.0\n",
       "order_number              0.0\n",
       "order_dow                 0.0\n",
       "order_hour_of_day         0.0\n",
       "days_since_prior_order    0.0\n",
       "dtype: float64"
      ]
     },
     "execution_count": 13,
     "metadata": {},
     "output_type": "execute_result"
    }
   ],
   "source": [
    "# Double check for duplicate order IDs only\n",
    "orders[orders.duplicated(subset='order_id')].sum()"
   ]
  },
  {
   "cell_type": "markdown",
   "id": "be1e674c",
   "metadata": {},
   "source": [
    "There are no more duplicates in `orders` table."
   ]
  },
  {
   "cell_type": "markdown",
   "id": "45e6bc46",
   "metadata": {},
   "source": [
    "### 2.1.2. `products` data frame"
   ]
  },
  {
   "cell_type": "code",
   "execution_count": 14,
   "id": "5f526b5b-8175-46fa-a0fd-441767d50e64",
   "metadata": {},
   "outputs": [
    {
     "data": {
      "text/plain": [
       "0"
      ]
     },
     "execution_count": 14,
     "metadata": {},
     "output_type": "execute_result"
    }
   ],
   "source": [
    "# Check for fully duplicate rows\n",
    "products.duplicated().sum()"
   ]
  },
  {
   "cell_type": "markdown",
   "id": "70767fd9",
   "metadata": {},
   "source": [
    "There are no fully duplicated rows id data."
   ]
  },
  {
   "cell_type": "code",
   "execution_count": 15,
   "id": "88daa4f4",
   "metadata": {},
   "outputs": [
    {
     "data": {
      "text/plain": [
       "0"
      ]
     },
     "execution_count": 15,
     "metadata": {},
     "output_type": "execute_result"
    }
   ],
   "source": [
    "# Check for just duplicate product IDs\n",
    "products.duplicated(subset = 'product_id').sum()"
   ]
  },
  {
   "cell_type": "markdown",
   "id": "caefcb12",
   "metadata": {},
   "source": [
    "There are no duplicated product IDs."
   ]
  },
  {
   "cell_type": "code",
   "execution_count": 16,
   "id": "c773f0bf",
   "metadata": {},
   "outputs": [
    {
     "data": {
      "text/plain": [
       "1361"
      ]
     },
     "execution_count": 16,
     "metadata": {},
     "output_type": "execute_result"
    }
   ],
   "source": [
    "# Check for just duplicate product names (convert names to lowercase to compare better)\n",
    "products['product_name'].str.lower().duplicated().sum()"
   ]
  },
  {
   "cell_type": "markdown",
   "id": "381dab06",
   "metadata": {},
   "source": [
    "There are 1361 duplicated product names. That's a lot. Let's find out how many of those duplicates are not missing values?"
   ]
  },
  {
   "cell_type": "code",
   "execution_count": 17,
   "id": "01efd02e",
   "metadata": {
    "scrolled": true
   },
   "outputs": [
    {
     "data": {
      "text/plain": [
       "104"
      ]
     },
     "execution_count": 17,
     "metadata": {},
     "output_type": "execute_result"
    }
   ],
   "source": [
    "# Check for duplicate product names that aren't missing\n",
    "products[products['product_name'].notnull() & products['product_name'].str.lower().duplicated()].shape[0]"
   ]
  },
  {
   "cell_type": "markdown",
   "id": "1be8f8f7",
   "metadata": {},
   "source": [
    "There are 104 duplicates out of 49694 `'product names'` in `products` table. That's less than 1%. Also, those duplicates already assigned to unique product_id, which already assigned to orders. We will keep those duplicates to ensure the integrity of the data for our analysis."
   ]
  },
  {
   "cell_type": "markdown",
   "id": "60f30db1",
   "metadata": {},
   "source": [
    "### 2.1.3. `departments` data frame"
   ]
  },
  {
   "cell_type": "code",
   "execution_count": 18,
   "id": "cf359a08",
   "metadata": {},
   "outputs": [
    {
     "data": {
      "text/plain": [
       "0"
      ]
     },
     "execution_count": 18,
     "metadata": {},
     "output_type": "execute_result"
    }
   ],
   "source": [
    "# checking for duplicates in department IDs\n",
    "departments['department_id'].duplicated().sum()"
   ]
  },
  {
   "cell_type": "code",
   "execution_count": 19,
   "id": "47de6069",
   "metadata": {},
   "outputs": [
    {
     "data": {
      "text/plain": [
       "0"
      ]
     },
     "execution_count": 19,
     "metadata": {},
     "output_type": "execute_result"
    }
   ],
   "source": [
    "# checking for duplicates in departments\n",
    "departments['department'].duplicated().sum()"
   ]
  },
  {
   "cell_type": "markdown",
   "id": "2c13a5e6",
   "metadata": {},
   "source": [
    "There are no duplicates in `departments` table."
   ]
  },
  {
   "cell_type": "markdown",
   "id": "889349c1",
   "metadata": {},
   "source": [
    "\n",
    "### 2.1.4. `aisles` data frame"
   ]
  },
  {
   "cell_type": "code",
   "execution_count": 20,
   "id": "9da89fb9-4679-40f5-ad0d-c34df753a3f8",
   "metadata": {},
   "outputs": [
    {
     "data": {
      "text/plain": [
       "0"
      ]
     },
     "execution_count": 20,
     "metadata": {},
     "output_type": "execute_result"
    }
   ],
   "source": [
    "# checking for duplicates in aisle IDs\n",
    "aisles['aisle_id'].duplicated().sum()"
   ]
  },
  {
   "cell_type": "code",
   "execution_count": 21,
   "id": "da7c2822",
   "metadata": {},
   "outputs": [
    {
     "data": {
      "text/plain": [
       "0"
      ]
     },
     "execution_count": 21,
     "metadata": {},
     "output_type": "execute_result"
    }
   ],
   "source": [
    "# checking for duplicates in aisles\n",
    "aisles['aisle'].duplicated().sum()"
   ]
  },
  {
   "cell_type": "markdown",
   "id": "a7b0626b",
   "metadata": {},
   "source": [
    "There are no duplicates in `aisles` table."
   ]
  },
  {
   "cell_type": "markdown",
   "id": "274cd06a",
   "metadata": {},
   "source": [
    "### 2.1.5. `order_products` data frame"
   ]
  },
  {
   "cell_type": "code",
   "execution_count": 22,
   "id": "52326689-84a8-4b8f-a881-7c68780f62c9",
   "metadata": {},
   "outputs": [
    {
     "data": {
      "text/plain": [
       "0"
      ]
     },
     "execution_count": 22,
     "metadata": {},
     "output_type": "execute_result"
    }
   ],
   "source": [
    "# Check for fully duplicate rows\n",
    "order_products.duplicated().sum()"
   ]
  },
  {
   "cell_type": "markdown",
   "id": "d98ec2c5",
   "metadata": {},
   "source": [
    "In column 'reordered' should be only 2 values - 1 or 0: 0 if the customer has never ordered this product before, 1 if they have. Let's check if it is."
   ]
  },
  {
   "cell_type": "code",
   "execution_count": 23,
   "id": "76cdc99f",
   "metadata": {},
   "outputs": [
    {
     "data": {
      "text/plain": [
       "array([0, 1])"
      ]
     },
     "execution_count": 23,
     "metadata": {},
     "output_type": "execute_result"
    }
   ],
   "source": [
    "# checking for unique values in 'reordered' column\n",
    "order_products['reordered'].unique()"
   ]
  },
  {
   "cell_type": "markdown",
   "id": "f120ddfb",
   "metadata": {},
   "source": [
    "There are no duplicates in `order_products` column."
   ]
  },
  {
   "cell_type": "markdown",
   "id": "0b890492",
   "metadata": {},
   "source": [
    "### Conclusions \n",
    "\n",
    "1. 14 duplicates were removed from `orders` table.\n",
    "2. Implicit duplicates were found in `products` table in `'product_name'` column. They were not removed to keep the integrity of the data for our analysis."
   ]
  },
  {
   "cell_type": "markdown",
   "id": "1e46de76",
   "metadata": {},
   "source": [
    "## 2.2. Find and remove missing values\n"
   ]
  },
  {
   "cell_type": "markdown",
   "id": "c0aebd78",
   "metadata": {},
   "source": [
    "### 2.2.1. `products` data frame"
   ]
  },
  {
   "cell_type": "code",
   "execution_count": 24,
   "id": "fe4a8b0f",
   "metadata": {
    "scrolled": false
   },
   "outputs": [
    {
     "data": {
      "text/html": [
       "<div>\n",
       "<style scoped>\n",
       "    .dataframe tbody tr th:only-of-type {\n",
       "        vertical-align: middle;\n",
       "    }\n",
       "\n",
       "    .dataframe tbody tr th {\n",
       "        vertical-align: top;\n",
       "    }\n",
       "\n",
       "    .dataframe thead th {\n",
       "        text-align: right;\n",
       "    }\n",
       "</style>\n",
       "<table border=\"1\" class=\"dataframe\">\n",
       "  <thead>\n",
       "    <tr style=\"text-align: right;\">\n",
       "      <th></th>\n",
       "      <th>product_id</th>\n",
       "      <th>product_name</th>\n",
       "      <th>aisle_id</th>\n",
       "      <th>department_id</th>\n",
       "    </tr>\n",
       "  </thead>\n",
       "  <tbody>\n",
       "    <tr>\n",
       "      <th>37</th>\n",
       "      <td>38</td>\n",
       "      <td>NaN</td>\n",
       "      <td>100</td>\n",
       "      <td>21</td>\n",
       "    </tr>\n",
       "    <tr>\n",
       "      <th>71</th>\n",
       "      <td>72</td>\n",
       "      <td>NaN</td>\n",
       "      <td>100</td>\n",
       "      <td>21</td>\n",
       "    </tr>\n",
       "    <tr>\n",
       "      <th>109</th>\n",
       "      <td>110</td>\n",
       "      <td>NaN</td>\n",
       "      <td>100</td>\n",
       "      <td>21</td>\n",
       "    </tr>\n",
       "    <tr>\n",
       "      <th>296</th>\n",
       "      <td>297</td>\n",
       "      <td>NaN</td>\n",
       "      <td>100</td>\n",
       "      <td>21</td>\n",
       "    </tr>\n",
       "    <tr>\n",
       "      <th>416</th>\n",
       "      <td>417</td>\n",
       "      <td>NaN</td>\n",
       "      <td>100</td>\n",
       "      <td>21</td>\n",
       "    </tr>\n",
       "    <tr>\n",
       "      <th>...</th>\n",
       "      <td>...</td>\n",
       "      <td>...</td>\n",
       "      <td>...</td>\n",
       "      <td>...</td>\n",
       "    </tr>\n",
       "    <tr>\n",
       "      <th>49552</th>\n",
       "      <td>49553</td>\n",
       "      <td>NaN</td>\n",
       "      <td>100</td>\n",
       "      <td>21</td>\n",
       "    </tr>\n",
       "    <tr>\n",
       "      <th>49574</th>\n",
       "      <td>49575</td>\n",
       "      <td>NaN</td>\n",
       "      <td>100</td>\n",
       "      <td>21</td>\n",
       "    </tr>\n",
       "    <tr>\n",
       "      <th>49640</th>\n",
       "      <td>49641</td>\n",
       "      <td>NaN</td>\n",
       "      <td>100</td>\n",
       "      <td>21</td>\n",
       "    </tr>\n",
       "    <tr>\n",
       "      <th>49663</th>\n",
       "      <td>49664</td>\n",
       "      <td>NaN</td>\n",
       "      <td>100</td>\n",
       "      <td>21</td>\n",
       "    </tr>\n",
       "    <tr>\n",
       "      <th>49668</th>\n",
       "      <td>49669</td>\n",
       "      <td>NaN</td>\n",
       "      <td>100</td>\n",
       "      <td>21</td>\n",
       "    </tr>\n",
       "  </tbody>\n",
       "</table>\n",
       "<p>1258 rows × 4 columns</p>\n",
       "</div>"
      ],
      "text/plain": [
       "       product_id product_name  aisle_id  department_id\n",
       "37             38          NaN       100             21\n",
       "71             72          NaN       100             21\n",
       "109           110          NaN       100             21\n",
       "296           297          NaN       100             21\n",
       "416           417          NaN       100             21\n",
       "...           ...          ...       ...            ...\n",
       "49552       49553          NaN       100             21\n",
       "49574       49575          NaN       100             21\n",
       "49640       49641          NaN       100             21\n",
       "49663       49664          NaN       100             21\n",
       "49668       49669          NaN       100             21\n",
       "\n",
       "[1258 rows x 4 columns]"
      ]
     },
     "execution_count": 24,
     "metadata": {},
     "output_type": "execute_result"
    }
   ],
   "source": [
    "# exploring missing values in 'product_name' column.\n",
    "products[products['product_name'].isna()]"
   ]
  },
  {
   "cell_type": "markdown",
   "id": "ab867dc0",
   "metadata": {},
   "source": [
    "We can see that missing product names assosiated with aisle 100 and department 21. Let's check if all of the missing product names assosiated with those aisle and department. "
   ]
  },
  {
   "cell_type": "code",
   "execution_count": 25,
   "id": "e96167bc",
   "metadata": {},
   "outputs": [
    {
     "data": {
      "text/plain": [
       "array([100])"
      ]
     },
     "execution_count": 25,
     "metadata": {},
     "output_type": "execute_result"
    }
   ],
   "source": [
    "# Are all of the missing product names associated with aisle ID 100?\n",
    "products[products['product_name'].isna()]['aisle_id'].unique()"
   ]
  },
  {
   "cell_type": "code",
   "execution_count": 26,
   "id": "8fd0a541",
   "metadata": {},
   "outputs": [
    {
     "data": {
      "text/plain": [
       "array([21])"
      ]
     },
     "execution_count": 26,
     "metadata": {},
     "output_type": "execute_result"
    }
   ],
   "source": [
    "# Are all of the missing product names associated with department ID 21?\n",
    "products[products['product_name'].isna()]['department_id'].unique()"
   ]
  },
  {
   "cell_type": "markdown",
   "id": "17ba08bd",
   "metadata": {},
   "source": [
    "All of the missing product names assosiated with aisle 100 and department 21. Let's find out what they are using `aisles` and `departments` tables. Maybe it will help us to fill in missing product names."
   ]
  },
  {
   "cell_type": "code",
   "execution_count": 27,
   "id": "325c3464",
   "metadata": {},
   "outputs": [
    {
     "name": "stdout",
     "output_type": "stream",
     "text": [
      "99    missing\n",
      "Name: aisle, dtype: object\n",
      "\n",
      "20    missing\n",
      "Name: department, dtype: object\n"
     ]
    }
   ],
   "source": [
    "# What is this ailse and department?\n",
    "print(aisles.loc[aisles['aisle_id'] == 100, 'aisle'])\n",
    "print()\n",
    "print(departments.loc[departments[\"department_id\"] == 21, 'department'])"
   ]
  },
  {
   "cell_type": "markdown",
   "id": "c857fe7b",
   "metadata": {},
   "source": [
    "Aisle and department, both have value `'missing'`. So, let's fill in missing product names with `'Unknown'`."
   ]
  },
  {
   "cell_type": "code",
   "execution_count": 28,
   "id": "6b295120",
   "metadata": {
    "scrolled": true
   },
   "outputs": [
    {
     "name": "stdout",
     "output_type": "stream",
     "text": [
      "<class 'pandas.core.frame.DataFrame'>\n",
      "RangeIndex: 49694 entries, 0 to 49693\n",
      "Data columns (total 4 columns):\n",
      " #   Column         Non-Null Count  Dtype \n",
      "---  ------         --------------  ----- \n",
      " 0   product_id     49694 non-null  int64 \n",
      " 1   product_name   49694 non-null  object\n",
      " 2   aisle_id       49694 non-null  int64 \n",
      " 3   department_id  49694 non-null  int64 \n",
      "dtypes: int64(3), object(1)\n",
      "memory usage: 1.5+ MB\n"
     ]
    }
   ],
   "source": [
    "# filling missing product names with 'Unknown'\n",
    "products.loc[:, 'product_name'] = products['product_name'].fillna('Unknown')\n",
    "# checking for missing values again\n",
    "products.info()"
   ]
  },
  {
   "cell_type": "markdown",
   "id": "fc70e5ad",
   "metadata": {},
   "source": [
    "There are no more missing values in `products` table."
   ]
  },
  {
   "cell_type": "markdown",
   "id": "7eb45c86",
   "metadata": {},
   "source": [
    "### `orders` data frame"
   ]
  },
  {
   "cell_type": "code",
   "execution_count": 29,
   "id": "93e41d96",
   "metadata": {
    "scrolled": true
   },
   "outputs": [
    {
     "data": {
      "text/html": [
       "<div>\n",
       "<style scoped>\n",
       "    .dataframe tbody tr th:only-of-type {\n",
       "        vertical-align: middle;\n",
       "    }\n",
       "\n",
       "    .dataframe tbody tr th {\n",
       "        vertical-align: top;\n",
       "    }\n",
       "\n",
       "    .dataframe thead th {\n",
       "        text-align: right;\n",
       "    }\n",
       "</style>\n",
       "<table border=\"1\" class=\"dataframe\">\n",
       "  <thead>\n",
       "    <tr style=\"text-align: right;\">\n",
       "      <th></th>\n",
       "      <th>order_id</th>\n",
       "      <th>user_id</th>\n",
       "      <th>order_number</th>\n",
       "      <th>order_dow</th>\n",
       "      <th>order_hour_of_day</th>\n",
       "      <th>days_since_prior_order</th>\n",
       "    </tr>\n",
       "  </thead>\n",
       "  <tbody>\n",
       "    <tr>\n",
       "      <th>28</th>\n",
       "      <td>133707</td>\n",
       "      <td>182261</td>\n",
       "      <td>1</td>\n",
       "      <td>3</td>\n",
       "      <td>10</td>\n",
       "      <td>NaN</td>\n",
       "    </tr>\n",
       "    <tr>\n",
       "      <th>96</th>\n",
       "      <td>787445</td>\n",
       "      <td>25685</td>\n",
       "      <td>1</td>\n",
       "      <td>6</td>\n",
       "      <td>18</td>\n",
       "      <td>NaN</td>\n",
       "    </tr>\n",
       "    <tr>\n",
       "      <th>100</th>\n",
       "      <td>294410</td>\n",
       "      <td>111449</td>\n",
       "      <td>1</td>\n",
       "      <td>0</td>\n",
       "      <td>19</td>\n",
       "      <td>NaN</td>\n",
       "    </tr>\n",
       "    <tr>\n",
       "      <th>103</th>\n",
       "      <td>2869915</td>\n",
       "      <td>123958</td>\n",
       "      <td>1</td>\n",
       "      <td>4</td>\n",
       "      <td>16</td>\n",
       "      <td>NaN</td>\n",
       "    </tr>\n",
       "    <tr>\n",
       "      <th>104</th>\n",
       "      <td>2521921</td>\n",
       "      <td>42286</td>\n",
       "      <td>1</td>\n",
       "      <td>3</td>\n",
       "      <td>18</td>\n",
       "      <td>NaN</td>\n",
       "    </tr>\n",
       "    <tr>\n",
       "      <th>...</th>\n",
       "      <td>...</td>\n",
       "      <td>...</td>\n",
       "      <td>...</td>\n",
       "      <td>...</td>\n",
       "      <td>...</td>\n",
       "      <td>...</td>\n",
       "    </tr>\n",
       "    <tr>\n",
       "      <th>478895</th>\n",
       "      <td>2589657</td>\n",
       "      <td>205028</td>\n",
       "      <td>1</td>\n",
       "      <td>0</td>\n",
       "      <td>16</td>\n",
       "      <td>NaN</td>\n",
       "    </tr>\n",
       "    <tr>\n",
       "      <th>478896</th>\n",
       "      <td>2222353</td>\n",
       "      <td>141211</td>\n",
       "      <td>1</td>\n",
       "      <td>2</td>\n",
       "      <td>13</td>\n",
       "      <td>NaN</td>\n",
       "    </tr>\n",
       "    <tr>\n",
       "      <th>478922</th>\n",
       "      <td>2272807</td>\n",
       "      <td>204154</td>\n",
       "      <td>1</td>\n",
       "      <td>1</td>\n",
       "      <td>15</td>\n",
       "      <td>NaN</td>\n",
       "    </tr>\n",
       "    <tr>\n",
       "      <th>478926</th>\n",
       "      <td>2499542</td>\n",
       "      <td>68810</td>\n",
       "      <td>1</td>\n",
       "      <td>4</td>\n",
       "      <td>19</td>\n",
       "      <td>NaN</td>\n",
       "    </tr>\n",
       "    <tr>\n",
       "      <th>478945</th>\n",
       "      <td>1387033</td>\n",
       "      <td>22496</td>\n",
       "      <td>1</td>\n",
       "      <td>5</td>\n",
       "      <td>14</td>\n",
       "      <td>NaN</td>\n",
       "    </tr>\n",
       "  </tbody>\n",
       "</table>\n",
       "<p>28817 rows × 6 columns</p>\n",
       "</div>"
      ],
      "text/plain": [
       "        order_id  user_id  order_number  order_dow  order_hour_of_day  \\\n",
       "28        133707   182261             1          3                 10   \n",
       "96        787445    25685             1          6                 18   \n",
       "100       294410   111449             1          0                 19   \n",
       "103      2869915   123958             1          4                 16   \n",
       "104      2521921    42286             1          3                 18   \n",
       "...          ...      ...           ...        ...                ...   \n",
       "478895   2589657   205028             1          0                 16   \n",
       "478896   2222353   141211             1          2                 13   \n",
       "478922   2272807   204154             1          1                 15   \n",
       "478926   2499542    68810             1          4                 19   \n",
       "478945   1387033    22496             1          5                 14   \n",
       "\n",
       "        days_since_prior_order  \n",
       "28                         NaN  \n",
       "96                         NaN  \n",
       "100                        NaN  \n",
       "103                        NaN  \n",
       "104                        NaN  \n",
       "...                        ...  \n",
       "478895                     NaN  \n",
       "478896                     NaN  \n",
       "478922                     NaN  \n",
       "478926                     NaN  \n",
       "478945                     NaN  \n",
       "\n",
       "[28817 rows x 6 columns]"
      ]
     },
     "execution_count": 29,
     "metadata": {},
     "output_type": "execute_result"
    }
   ],
   "source": [
    "# exploring missing values in 'days_since_prior_order' column.\n",
    "orders[orders['days_since_prior_order'].isna()]"
   ]
  },
  {
   "cell_type": "markdown",
   "id": "11f96c54",
   "metadata": {},
   "source": [
    "We can see that missing values assosiated with customer's first order. Let's check if all of the missing values assosiated with customer's first order."
   ]
  },
  {
   "cell_type": "code",
   "execution_count": 30,
   "id": "166e5a86",
   "metadata": {},
   "outputs": [
    {
     "data": {
      "text/plain": [
       "order_id                  0\n",
       "user_id                   0\n",
       "order_number              0\n",
       "order_dow                 0\n",
       "order_hour_of_day         0\n",
       "days_since_prior_order    0\n",
       "dtype: int64"
      ]
     },
     "execution_count": 30,
     "metadata": {},
     "output_type": "execute_result"
    }
   ],
   "source": [
    "# Are there any missing values where it's not a customer's first order?\n",
    "orders[orders['order_number'] != 1].isna().sum()"
   ]
  },
  {
   "cell_type": "markdown",
   "id": "9e6cb6bf",
   "metadata": {},
   "source": [
    "All of the missing values assosiated with customer's first order. That means that there are 0 days since prior order. "
   ]
  },
  {
   "cell_type": "code",
   "execution_count": 31,
   "id": "ee03e616",
   "metadata": {},
   "outputs": [
    {
     "name": "stdout",
     "output_type": "stream",
     "text": [
      "<class 'pandas.core.frame.DataFrame'>\n",
      "Int64Index: 478952 entries, 0 to 478966\n",
      "Data columns (total 6 columns):\n",
      " #   Column                  Non-Null Count   Dtype  \n",
      "---  ------                  --------------   -----  \n",
      " 0   order_id                478952 non-null  int64  \n",
      " 1   user_id                 478952 non-null  int64  \n",
      " 2   order_number            478952 non-null  int64  \n",
      " 3   order_dow               478952 non-null  int64  \n",
      " 4   order_hour_of_day       478952 non-null  int64  \n",
      " 5   days_since_prior_order  450135 non-null  float64\n",
      "dtypes: float64(1), int64(5)\n",
      "memory usage: 25.6 MB\n"
     ]
    }
   ],
   "source": [
    "# filling missing value with 0 and changing column data type float to integer\n",
    "# orders.loc[:, 'days_since_prior_order'] = orders['days_since_prior_order'].fillna(0).astype('int64')\n",
    "# checking for missing values again\n",
    "orders.info()"
   ]
  },
  {
   "cell_type": "markdown",
   "id": "fdeb5212",
   "metadata": {},
   "source": [
    "\n"
   ]
  },
  {
   "cell_type": "markdown",
   "id": "69dc9ca4",
   "metadata": {},
   "source": [
    "### 2.2.2. `order_products` data frame"
   ]
  },
  {
   "cell_type": "code",
   "execution_count": 32,
   "id": "b8240253",
   "metadata": {
    "scrolled": true
   },
   "outputs": [
    {
     "data": {
      "text/html": [
       "<div>\n",
       "<style scoped>\n",
       "    .dataframe tbody tr th:only-of-type {\n",
       "        vertical-align: middle;\n",
       "    }\n",
       "\n",
       "    .dataframe tbody tr th {\n",
       "        vertical-align: top;\n",
       "    }\n",
       "\n",
       "    .dataframe thead th {\n",
       "        text-align: right;\n",
       "    }\n",
       "</style>\n",
       "<table border=\"1\" class=\"dataframe\">\n",
       "  <thead>\n",
       "    <tr style=\"text-align: right;\">\n",
       "      <th></th>\n",
       "      <th>order_id</th>\n",
       "      <th>product_id</th>\n",
       "      <th>add_to_cart_order</th>\n",
       "      <th>reordered</th>\n",
       "    </tr>\n",
       "  </thead>\n",
       "  <tbody>\n",
       "    <tr>\n",
       "      <th>737</th>\n",
       "      <td>2449164</td>\n",
       "      <td>5068</td>\n",
       "      <td>NaN</td>\n",
       "      <td>0</td>\n",
       "    </tr>\n",
       "    <tr>\n",
       "      <th>9926</th>\n",
       "      <td>1968313</td>\n",
       "      <td>43867</td>\n",
       "      <td>NaN</td>\n",
       "      <td>0</td>\n",
       "    </tr>\n",
       "    <tr>\n",
       "      <th>14394</th>\n",
       "      <td>2926893</td>\n",
       "      <td>11688</td>\n",
       "      <td>NaN</td>\n",
       "      <td>0</td>\n",
       "    </tr>\n",
       "    <tr>\n",
       "      <th>16418</th>\n",
       "      <td>1717990</td>\n",
       "      <td>4142</td>\n",
       "      <td>NaN</td>\n",
       "      <td>0</td>\n",
       "    </tr>\n",
       "    <tr>\n",
       "      <th>30114</th>\n",
       "      <td>1959075</td>\n",
       "      <td>42828</td>\n",
       "      <td>NaN</td>\n",
       "      <td>1</td>\n",
       "    </tr>\n",
       "    <tr>\n",
       "      <th>...</th>\n",
       "      <td>...</td>\n",
       "      <td>...</td>\n",
       "      <td>...</td>\n",
       "      <td>...</td>\n",
       "    </tr>\n",
       "    <tr>\n",
       "      <th>4505662</th>\n",
       "      <td>1800005</td>\n",
       "      <td>7411</td>\n",
       "      <td>NaN</td>\n",
       "      <td>0</td>\n",
       "    </tr>\n",
       "    <tr>\n",
       "      <th>4511400</th>\n",
       "      <td>1633337</td>\n",
       "      <td>260</td>\n",
       "      <td>NaN</td>\n",
       "      <td>0</td>\n",
       "    </tr>\n",
       "    <tr>\n",
       "      <th>4517562</th>\n",
       "      <td>404157</td>\n",
       "      <td>9517</td>\n",
       "      <td>NaN</td>\n",
       "      <td>0</td>\n",
       "    </tr>\n",
       "    <tr>\n",
       "      <th>4534112</th>\n",
       "      <td>1673227</td>\n",
       "      <td>17835</td>\n",
       "      <td>NaN</td>\n",
       "      <td>0</td>\n",
       "    </tr>\n",
       "    <tr>\n",
       "      <th>4535739</th>\n",
       "      <td>1832957</td>\n",
       "      <td>17949</td>\n",
       "      <td>NaN</td>\n",
       "      <td>1</td>\n",
       "    </tr>\n",
       "  </tbody>\n",
       "</table>\n",
       "<p>836 rows × 4 columns</p>\n",
       "</div>"
      ],
      "text/plain": [
       "         order_id  product_id  add_to_cart_order  reordered\n",
       "737       2449164        5068                NaN          0\n",
       "9926      1968313       43867                NaN          0\n",
       "14394     2926893       11688                NaN          0\n",
       "16418     1717990        4142                NaN          0\n",
       "30114     1959075       42828                NaN          1\n",
       "...           ...         ...                ...        ...\n",
       "4505662   1800005        7411                NaN          0\n",
       "4511400   1633337         260                NaN          0\n",
       "4517562    404157        9517                NaN          0\n",
       "4534112   1673227       17835                NaN          0\n",
       "4535739   1832957       17949                NaN          1\n",
       "\n",
       "[836 rows x 4 columns]"
      ]
     },
     "execution_count": 32,
     "metadata": {},
     "output_type": "execute_result"
    }
   ],
   "source": [
    "# exploring missing values in 'add_to_cart_order' column.\n",
    "order_products[order_products['add_to_cart_order'].isna()]"
   ]
  },
  {
   "cell_type": "markdown",
   "id": "3e4bbcb4",
   "metadata": {},
   "source": [
    "To better understand how to handle missing values, we need to examine the table more closely. We can determine the range of sequential order in which each item was placed in the cart.    "
   ]
  },
  {
   "cell_type": "code",
   "execution_count": 33,
   "id": "9a78e5ee",
   "metadata": {
    "scrolled": true
   },
   "outputs": [
    {
     "data": {
      "text/plain": [
       "(1.0, 64.0)"
      ]
     },
     "execution_count": 33,
     "metadata": {},
     "output_type": "execute_result"
    }
   ],
   "source": [
    "# the range of values in 'add_to_cart_order' column\n",
    "order_products['add_to_cart_order'].min(), order_products['add_to_cart_order'].max()"
   ]
  },
  {
   "cell_type": "markdown",
   "id": "a466db22",
   "metadata": {},
   "source": [
    "We can calculate number of products in each order there the value of sequential order in which each item was placed in the cart is missing. For that we need to extract all order ids with missing values first.  "
   ]
  },
  {
   "cell_type": "code",
   "execution_count": 34,
   "id": "ab9d0c2b",
   "metadata": {},
   "outputs": [],
   "source": [
    "# creating list with all order IDs with at least one missing value in 'add_to_cart_order'\n",
    "orders_with_missing_values = order_products[order_products['add_to_cart_order'].isna()]['order_id'].tolist()"
   ]
  },
  {
   "cell_type": "code",
   "execution_count": 35,
   "id": "54c31695",
   "metadata": {},
   "outputs": [
    {
     "data": {
      "text/plain": [
       "order_id\n",
       "9310        65\n",
       "747668      65\n",
       "1598369     65\n",
       "1677118     65\n",
       "2170451     65\n",
       "          ... \n",
       "1959075     98\n",
       "171934     104\n",
       "2136777    108\n",
       "3308010    115\n",
       "61355      127\n",
       "Length: 70, dtype: int64"
      ]
     },
     "execution_count": 35,
     "metadata": {},
     "output_type": "execute_result"
    }
   ],
   "source": [
    "# Do all orders with missing values have more than 64 products?\n",
    "order_products.query(\"order_id in @orders_with_missing_values\").groupby(\"order_id\").size().sort_values()"
   ]
  },
  {
   "cell_type": "markdown",
   "id": "675b58c8",
   "metadata": {},
   "source": [
    "As we can see, all orders with missing values have more than 64 products. Probably, for some reason, program counts only first 64 products. Everything above that number is interpreted as NaN.\n",
    "So, let's fill in missiing values with 999, which is commonly used placeholder value in data analysis to represent missing data and it is easy to distinguish it from other values."
   ]
  },
  {
   "cell_type": "code",
   "execution_count": 36,
   "id": "7aeeb34d",
   "metadata": {},
   "outputs": [
    {
     "name": "stdout",
     "output_type": "stream",
     "text": [
      "<class 'pandas.core.frame.DataFrame'>\n",
      "RangeIndex: 4545007 entries, 0 to 4545006\n",
      "Data columns (total 4 columns):\n",
      " #   Column             Non-Null Count    Dtype\n",
      "---  ------             --------------    -----\n",
      " 0   order_id           4545007 non-null  int64\n",
      " 1   product_id         4545007 non-null  int64\n",
      " 2   add_to_cart_order  4545007 non-null  int64\n",
      " 3   reordered          4545007 non-null  int64\n",
      "dtypes: int64(4)\n",
      "memory usage: 138.7 MB\n"
     ]
    }
   ],
   "source": [
    "# replacing missing values with 999 and converting column data type float to integer.\n",
    "order_products.loc[:, 'add_to_cart_order'] = order_products['add_to_cart_order'].fillna(999).astype('int64')\n",
    "# checking for missing values again\n",
    "order_products.info(show_counts=True)"
   ]
  },
  {
   "cell_type": "markdown",
   "id": "42b376fe",
   "metadata": {},
   "source": [
    "There is no more missing values in `order_products` table."
   ]
  },
  {
   "cell_type": "markdown",
   "id": "50440ab4",
   "metadata": {},
   "source": [
    "### Conclusions \n",
    "\n",
    "1. Missing values were found in three tables: `orders`, `products`, `order_products`.\n",
    "2. In `orders` table missing values in `'days_sinse_prior_order'` column were replaced with '0', sinse they are first orders. Also, data type of that column was changed from float to integer.\n",
    "3. In `products` table missing values in `'product_name'` column were replaced with 'Unknown', sinse department and aisles formthem are `'missing'`.\n",
    "4. In `order_products` table missing values in `'add_to_card_order'` column were replaced with '999 to be easy to destinguish. Also, data type of that column was changed from float to integer.\n"
   ]
  },
  {
   "cell_type": "markdown",
   "id": "bfd4d1c3",
   "metadata": {},
   "source": [
    "[Back to Contents](#back)"
   ]
  },
  {
   "cell_type": "markdown",
   "id": "22441170",
   "metadata": {},
   "source": [
    " # Stage 3. Analyzing data <a id='data_analyzing'></a>"
   ]
  },
  {
   "cell_type": "markdown",
   "id": "19d67dd6",
   "metadata": {},
   "source": [
    "## [A] Easy (must complete all to pass)  \n"
   ]
  },
  {
   "cell_type": "markdown",
   "id": "short-capability",
   "metadata": {},
   "source": [
    "### [A1] Verify that the `'order_hour_of_day'` and `'order_dow'` values in the `orders` tables are sensible (i.e. `'order_hour_of_day'` ranges from 0 to 23 and `'order_dow'` ranges from 0 to 6)  "
   ]
  },
  {
   "cell_type": "code",
   "execution_count": 37,
   "id": "growing-fruit",
   "metadata": {},
   "outputs": [
    {
     "data": {
      "text/plain": [
       "(0, 23)"
      ]
     },
     "execution_count": 37,
     "metadata": {},
     "output_type": "execute_result"
    }
   ],
   "source": [
    "# calculating the min and max values in column 'order_hour_of_day'\n",
    "orders['order_hour_of_day'].min(), orders['order_hour_of_day'].max()"
   ]
  },
  {
   "cell_type": "code",
   "execution_count": 38,
   "id": "accessory-malaysia",
   "metadata": {},
   "outputs": [
    {
     "data": {
      "text/plain": [
       "(0, 6)"
      ]
     },
     "execution_count": 38,
     "metadata": {},
     "output_type": "execute_result"
    }
   ],
   "source": [
    "# calculating the min and max values in column 'order_dow'\n",
    "orders['order_dow'].min(), orders['order_dow'].max()"
   ]
  },
  {
   "cell_type": "markdown",
   "id": "9327c926",
   "metadata": {},
   "source": [
    "Values in columns `'order_hour_of_day'` and `'order_dow'`  in the `orders` table are sensible."
   ]
  },
  {
   "cell_type": "markdown",
   "id": "a6743a70",
   "metadata": {},
   "source": [
    "### [A2] What time of day do people shop for groceries?  "
   ]
  },
  {
   "cell_type": "code",
   "execution_count": 39,
   "id": "b1010ed9",
   "metadata": {},
   "outputs": [
    {
     "data": {
      "text/plain": [
       "10    40578\n",
       "Name: order_hour_of_day, dtype: int64"
      ]
     },
     "execution_count": 39,
     "metadata": {},
     "output_type": "execute_result"
    }
   ],
   "source": [
    "# determining the most popular time for shopping\n",
    "orders['order_hour_of_day'].value_counts().head(1)"
   ]
  },
  {
   "cell_type": "markdown",
   "id": "33805b05",
   "metadata": {},
   "source": [
    "The most popular time for shopping is 10.00 AM. Let's look at the most popular time to shop for groceries clearly. "
   ]
  },
  {
   "cell_type": "code",
   "execution_count": 40,
   "id": "a36cca27",
   "metadata": {},
   "outputs": [
    {
     "data": {
      "image/png": "[encoded data removed]",
      "text/plain": [
       "<Figure size 432x288 with 1 Axes>"
      ]
     },
     "metadata": {
      "needs_background": "light"
     },
     "output_type": "display_data"
    }
   ],
   "source": [
    "# bar chart 'Most popular time'\n",
    "orders['order_hour_of_day'].value_counts().sort_index().plot(kind = 'bar',\n",
    "                                                            title = 'Most Popular Time to Shop for Groceries',\n",
    "                                                            ylabel = 'Frequency',\n",
    "                                                            xlim = [0, 23],\n",
    "                                                            xticks=range(24))\n",
    "plt.xlabel('Hour of Day')\n",
    "plt.show()"
   ]
  },
  {
   "cell_type": "markdown",
   "id": "11270eed",
   "metadata": {},
   "source": [
    "The pick time of day for grocery shopping is 10.00 a.m. The most popular range of time for shopping - 10.00 AM - 4.00 PM."
   ]
  },
  {
   "cell_type": "markdown",
   "id": "documented-command",
   "metadata": {},
   "source": [
    "### [A3] What day of the week do people shop for groceries? "
   ]
  },
  {
   "cell_type": "code",
   "execution_count": 41,
   "id": "e6828445",
   "metadata": {},
   "outputs": [
    {
     "data": {
      "text/plain": [
       "0    84090\n",
       "Name: order_dow, dtype: int64"
      ]
     },
     "execution_count": 41,
     "metadata": {},
     "output_type": "execute_result"
    }
   ],
   "source": [
    "# determining the most popular time for shopping\n",
    "# Sunday as 0 is commonly used. This convention is based on the ISO 8601 standard for representing dates and times \n",
    "orders['order_dow'].value_counts().head(1)"
   ]
  },
  {
   "cell_type": "markdown",
   "id": "cee30727",
   "metadata": {},
   "source": [
    "The most popular day of week for grocery shopping is Sunday.  Let's look at the most popular day of week to shop for groceries clearly. "
   ]
  },
  {
   "cell_type": "code",
   "execution_count": 42,
   "id": "chief-digit",
   "metadata": {},
   "outputs": [
    {
     "data": {
      "image/png": "[encoded data removed]",
      "text/plain": [
       "<Figure size 432x288 with 1 Axes>"
      ]
     },
     "metadata": {
      "needs_background": "light"
     },
     "output_type": "display_data"
    }
   ],
   "source": [
    "# bar chart 'Days of week'\n",
    "orders['order_dow'].value_counts().sort_index().plot(kind='bar',\n",
    "                                                    title = 'Days of Week When People Shop',\n",
    "                                                    ylabel = 'Frequency',\n",
    "                                                    xlim = [0, 6],\n",
    "                                                    xticks=range(7))\n",
    "plt.xlabel('Day of Week')\n",
    "plt.show()"
   ]
  },
  {
   "cell_type": "markdown",
   "id": "dominant-lightning",
   "metadata": {},
   "source": [
    "The most common day of the week for grocery shopping is Sunday, the day when most people are off work. On the second place, for some reason, is Monday."
   ]
  },
  {
   "cell_type": "markdown",
   "id": "cutting-concert",
   "metadata": {},
   "source": [
    "### [A4] How long do people wait until placing another order? "
   ]
  },
  {
   "cell_type": "code",
   "execution_count": 43,
   "id": "c231f523",
   "metadata": {},
   "outputs": [
    {
     "data": {
      "text/plain": [
       "11.101813900274362"
      ]
     },
     "execution_count": 43,
     "metadata": {},
     "output_type": "execute_result"
    }
   ],
   "source": [
    "orders['days_since_prior_order'].mean()"
   ]
  },
  {
   "cell_type": "markdown",
   "id": "discrete-vertex",
   "metadata": {},
   "source": [
    "On average, people wait 10 days until placing another order."
   ]
  },
  {
   "cell_type": "code",
   "execution_count": 44,
   "id": "c101fe97",
   "metadata": {},
   "outputs": [
    {
     "data": {
      "text/plain": [
       "7.0"
      ]
     },
     "execution_count": 44,
     "metadata": {},
     "output_type": "execute_result"
    }
   ],
   "source": [
    "orders['days_since_prior_order'].median()"
   ]
  },
  {
   "cell_type": "code",
   "execution_count": 45,
   "id": "exciting-fantasy",
   "metadata": {},
   "outputs": [
    {
     "data": {
      "text/plain": [
       "0    30.0\n",
       "dtype: float64"
      ]
     },
     "execution_count": 45,
     "metadata": {},
     "output_type": "execute_result"
    }
   ],
   "source": [
    "orders['days_since_prior_order'].mode()"
   ]
  },
  {
   "cell_type": "markdown",
   "id": "8d926614",
   "metadata": {},
   "source": [
    "If we check the most common number of days people wait until placing another order, we get 30 (1 month). If we count median, we get 7 days (1 week).\n",
    "Let's create plot to see clearly."
   ]
  },
  {
   "cell_type": "code",
   "execution_count": 46,
   "id": "e3a7cf66",
   "metadata": {},
   "outputs": [
    {
     "data": {
      "text/plain": [
       "<function matplotlib.pyplot.show(close=None, block=None)>"
      ]
     },
     "execution_count": 46,
     "metadata": {},
     "output_type": "execute_result"
    },
    {
     "data": {
      "image/png": "[encoded data removed]",
      "text/plain": [
       "<Figure size 432x288 with 1 Axes>"
      ]
     },
     "metadata": {
      "needs_background": "light"
     },
     "output_type": "display_data"
    }
   ],
   "source": [
    "# plot'Time until placing another order'\n",
    "orders['days_since_prior_order'].value_counts().sort_index().plot(kind = 'bar',\n",
    "                                                            title = 'Time until placing another order',\n",
    "                                                            ylabel = 'Frequency',\n",
    "                                                            xlim = [0, 30],\n",
    "                                                            xticks=range(30))\n",
    "plt.xlabel('Days')\n",
    "plt.show()"
   ]
  },
  {
   "cell_type": "markdown",
   "id": "1b2a31ac",
   "metadata": {},
   "source": [
    "As we can see, typically people wait 30 days (1 month) until placing their next order. Least of all people wait 29 days until placing their next order. On a second place - 7 days (1 week). That says that there are some variation in  ordering habits of people, influenced probably by personal preferences."
   ]
  },
  {
   "cell_type": "markdown",
   "id": "tight-staff",
   "metadata": {},
   "source": [
    "## [B] Medium (must complete all to pass)  "
   ]
  },
  {
   "cell_type": "markdown",
   "id": "packed-classic",
   "metadata": {},
   "source": [
    "### [B1] Is there a difference in `'order_hour_of_day'` distributions on Wednesdays and Saturdays? Plot the histograms for both days and describe the differences that you see."
   ]
  },
  {
   "cell_type": "code",
   "execution_count": 47,
   "id": "d89b8403",
   "metadata": {},
   "outputs": [],
   "source": [
    "# 'order_hour_of_day' distributions on Wednesdays\n",
    "order_hod_wed = orders.loc[orders['order_dow'] == 3, 'order_hour_of_day']"
   ]
  },
  {
   "cell_type": "code",
   "execution_count": 48,
   "id": "94e54e8a",
   "metadata": {},
   "outputs": [],
   "source": [
    "# 'order_hour_of_day' distributions on Saturdays\n",
    "order_hod_sat = orders.loc[orders['order_dow'] == 6, 'order_hour_of_day']"
   ]
  },
  {
   "cell_type": "code",
   "execution_count": 49,
   "id": "797c90a8",
   "metadata": {
    "scrolled": true
   },
   "outputs": [
    {
     "data": {
      "image/png": "[encoded data removed]",
      "text/plain": [
       "<Figure size 432x288 with 1 Axes>"
      ]
     },
     "metadata": {
      "needs_background": "light"
     },
     "output_type": "display_data"
    }
   ],
   "source": [
    "# plot for Wednesdays\n",
    "order_hod_wed.plot(kind = 'hist', \n",
    "                   bins = 24, \n",
    "                   title = 'Distribution of order time on Wednesdays',\n",
    "                   ylabel = 'Frequency',\n",
    "                   xlim = [0, 23],\n",
    "                   xticks=range(24))\n",
    "plt.xlabel('Hour of Day')\n",
    "plt.show()"
   ]
  },
  {
   "cell_type": "code",
   "execution_count": 50,
   "id": "8bc6aba3",
   "metadata": {
    "scrolled": false
   },
   "outputs": [
    {
     "data": {
      "image/png": "[encoded data removed]",
      "text/plain": [
       "<Figure size 432x288 with 1 Axes>"
      ]
     },
     "metadata": {
      "needs_background": "light"
     },
     "output_type": "display_data"
    }
   ],
   "source": [
    "# plot for Saturdays\n",
    "order_hod_sat.plot(kind = 'hist', \n",
    "                   bins = 24, \n",
    "                   title = 'Distribution of order time on Saturdays',\n",
    "                   ylabel = 'Frequency',\n",
    "                   xlim = [0, 23],\n",
    "                   xticks=range(24))\n",
    "plt.xlabel('Hour of Day')\n",
    "plt.show()"
   ]
  },
  {
   "cell_type": "code",
   "execution_count": 51,
   "id": "982164e5",
   "metadata": {},
   "outputs": [
    {
     "data": {
      "image/png": "[encoded data removed]",
      "text/plain": [
       "<Figure size 432x288 with 1 Axes>"
      ]
     },
     "metadata": {
      "needs_background": "light"
     },
     "output_type": "display_data"
    }
   ],
   "source": [
    "# both histograms\n",
    "order_hod_wed.plot(kind = 'hist', \n",
    "                   bins = 24, \n",
    "                   title = 'Distribution of order time on Wednesdays and Saturdays',\n",
    "                   ylabel = 'Frequency',\n",
    "                   xlim = [0, 23],\n",
    "                   xticks=range(24))\n",
    "order_hod_sat.plot(kind = 'hist', \n",
    "                   bins = 24, \n",
    "                   alpha = 0.5)\n",
    "plt.xlabel('Hour of Day')\n",
    "plt.legend(['Wednesday', 'Saturday'])\n",
    "plt.show()"
   ]
  },
  {
   "cell_type": "markdown",
   "id": "charitable-congo",
   "metadata": {},
   "source": [
    "The shape of two histograms is similar. They show low shopping activity during night time, but on Saturdays a little higher than on Wednesdays. In the morning shopping activity starts to grow. It gets to the busiest hours for shopping, and goes down during evening hours. The busiest shopping hours are 10.00 am - 17.00 pm, and here we can see significant difference in two graphs: on Wednesday, there are two picks during the busiest hours - 10.00 am - 12.00 am and 3.00 pm - 5.00 pm with the busiest hour falling between 3.00 pm and 4.00 pm. On Saturdays, shopping activity during the busiest hours continues to grow and reaches its peak at 2.00 pm. \n",
    "There are some differences in shopping behavior and preferences between Wednesdays and Saturdays. The specific peak hours and their intensity may reflect factors such as weekday routines, work schedules, and shopping patterns specific to each day. "
   ]
  },
  {
   "cell_type": "markdown",
   "id": "e3891143",
   "metadata": {},
   "source": [
    "### [B2] What's the distribution for the number of orders per customer?"
   ]
  },
  {
   "cell_type": "code",
   "execution_count": 52,
   "id": "d8c26c23",
   "metadata": {},
   "outputs": [],
   "source": [
    "# counting the number of orders for each cusromer\n",
    "orders_per_customer = orders.groupby('user_id')['order_id'].nunique()"
   ]
  },
  {
   "cell_type": "code",
   "execution_count": 53,
   "id": "00e69a66",
   "metadata": {},
   "outputs": [
    {
     "data": {
      "image/png": "[encoded data removed]",
      "text/plain": [
       "<Figure size 432x288 with 1 Axes>"
      ]
     },
     "metadata": {
      "needs_background": "light"
     },
     "output_type": "display_data"
    }
   ],
   "source": [
    "# histogram of distribution for the number of orders per customer\n",
    "orders_per_customer.plot(kind = 'hist', \n",
    "                   bins = len(orders_per_customer.unique()), \n",
    "                   title = 'Distribution of Orders per Customer',\n",
    "                   ylabel = 'Frequency',\n",
    "                   xlim = [0, orders_per_customer.max()],\n",
    "                   xticks=range(orders_per_customer.max()))\n",
    "plt.xlabel('Number of Orders per Customer')\n",
    "plt.show()"
   ]
  },
  {
   "cell_type": "markdown",
   "id": "d2eff7d5",
   "metadata": {},
   "source": [
    "As we can see, most customers made just one order. Maybe that's because most of the customers are new, and they just testing new app."
   ]
  },
  {
   "cell_type": "markdown",
   "id": "54a0319c",
   "metadata": {},
   "source": [
    "### [B3] What are the top 20 popular products (display their id and name)?"
   ]
  },
  {
   "cell_type": "code",
   "execution_count": 54,
   "id": "exterior-arizona",
   "metadata": {
    "scrolled": true
   },
   "outputs": [],
   "source": [
    "# extracting top 20 most popular product IDs by counting the frequensy of each product \n",
    "# in order of popularity (descending)\n",
    "top_20_product_id = order_products['product_id'].value_counts().head(20).index"
   ]
  },
  {
   "cell_type": "code",
   "execution_count": 55,
   "id": "12bd2b8a",
   "metadata": {},
   "outputs": [],
   "source": [
    "# creating a DataFrame with the top 20 product IDs s\n",
    "top_20_product_id = pd.DataFrame({'product_id': top_20_product_id})"
   ]
  },
  {
   "cell_type": "code",
   "execution_count": 56,
   "id": "ca4b235f",
   "metadata": {},
   "outputs": [
    {
     "data": {
      "text/html": [
       "<div>\n",
       "<style scoped>\n",
       "    .dataframe tbody tr th:only-of-type {\n",
       "        vertical-align: middle;\n",
       "    }\n",
       "\n",
       "    .dataframe tbody tr th {\n",
       "        vertical-align: top;\n",
       "    }\n",
       "\n",
       "    .dataframe thead th {\n",
       "        text-align: right;\n",
       "    }\n",
       "</style>\n",
       "<table border=\"1\" class=\"dataframe\">\n",
       "  <thead>\n",
       "    <tr style=\"text-align: right;\">\n",
       "      <th></th>\n",
       "      <th>product_id</th>\n",
       "      <th>product_name</th>\n",
       "    </tr>\n",
       "  </thead>\n",
       "  <tbody>\n",
       "    <tr>\n",
       "      <th>0</th>\n",
       "      <td>24852</td>\n",
       "      <td>Banana</td>\n",
       "    </tr>\n",
       "    <tr>\n",
       "      <th>1</th>\n",
       "      <td>13176</td>\n",
       "      <td>Bag of Organic Bananas</td>\n",
       "    </tr>\n",
       "    <tr>\n",
       "      <th>2</th>\n",
       "      <td>21137</td>\n",
       "      <td>Organic Strawberries</td>\n",
       "    </tr>\n",
       "    <tr>\n",
       "      <th>3</th>\n",
       "      <td>21903</td>\n",
       "      <td>Organic Baby Spinach</td>\n",
       "    </tr>\n",
       "    <tr>\n",
       "      <th>4</th>\n",
       "      <td>47209</td>\n",
       "      <td>Organic Hass Avocado</td>\n",
       "    </tr>\n",
       "    <tr>\n",
       "      <th>5</th>\n",
       "      <td>47766</td>\n",
       "      <td>Organic Avocado</td>\n",
       "    </tr>\n",
       "    <tr>\n",
       "      <th>6</th>\n",
       "      <td>47626</td>\n",
       "      <td>Large Lemon</td>\n",
       "    </tr>\n",
       "    <tr>\n",
       "      <th>7</th>\n",
       "      <td>16797</td>\n",
       "      <td>Strawberries</td>\n",
       "    </tr>\n",
       "    <tr>\n",
       "      <th>8</th>\n",
       "      <td>26209</td>\n",
       "      <td>Limes</td>\n",
       "    </tr>\n",
       "    <tr>\n",
       "      <th>9</th>\n",
       "      <td>27845</td>\n",
       "      <td>Organic Whole Milk</td>\n",
       "    </tr>\n",
       "    <tr>\n",
       "      <th>10</th>\n",
       "      <td>27966</td>\n",
       "      <td>Organic Raspberries</td>\n",
       "    </tr>\n",
       "    <tr>\n",
       "      <th>11</th>\n",
       "      <td>22935</td>\n",
       "      <td>Organic Yellow Onion</td>\n",
       "    </tr>\n",
       "    <tr>\n",
       "      <th>12</th>\n",
       "      <td>24964</td>\n",
       "      <td>Organic Garlic</td>\n",
       "    </tr>\n",
       "    <tr>\n",
       "      <th>13</th>\n",
       "      <td>45007</td>\n",
       "      <td>Organic Zucchini</td>\n",
       "    </tr>\n",
       "    <tr>\n",
       "      <th>14</th>\n",
       "      <td>39275</td>\n",
       "      <td>Organic Blueberries</td>\n",
       "    </tr>\n",
       "    <tr>\n",
       "      <th>15</th>\n",
       "      <td>49683</td>\n",
       "      <td>Cucumber Kirby</td>\n",
       "    </tr>\n",
       "    <tr>\n",
       "      <th>16</th>\n",
       "      <td>28204</td>\n",
       "      <td>Organic Fuji Apple</td>\n",
       "    </tr>\n",
       "    <tr>\n",
       "      <th>17</th>\n",
       "      <td>5876</td>\n",
       "      <td>Organic Lemon</td>\n",
       "    </tr>\n",
       "    <tr>\n",
       "      <th>18</th>\n",
       "      <td>8277</td>\n",
       "      <td>Apple Honeycrisp Organic</td>\n",
       "    </tr>\n",
       "    <tr>\n",
       "      <th>19</th>\n",
       "      <td>40706</td>\n",
       "      <td>Organic Grape Tomatoes</td>\n",
       "    </tr>\n",
       "  </tbody>\n",
       "</table>\n",
       "</div>"
      ],
      "text/plain": [
       "    product_id              product_name\n",
       "0        24852                    Banana\n",
       "1        13176    Bag of Organic Bananas\n",
       "2        21137      Organic Strawberries\n",
       "3        21903      Organic Baby Spinach\n",
       "4        47209      Organic Hass Avocado\n",
       "5        47766           Organic Avocado\n",
       "6        47626               Large Lemon\n",
       "7        16797              Strawberries\n",
       "8        26209                     Limes\n",
       "9        27845        Organic Whole Milk\n",
       "10       27966       Organic Raspberries\n",
       "11       22935      Organic Yellow Onion\n",
       "12       24964            Organic Garlic\n",
       "13       45007          Organic Zucchini\n",
       "14       39275       Organic Blueberries\n",
       "15       49683            Cucumber Kirby\n",
       "16       28204        Organic Fuji Apple\n",
       "17        5876             Organic Lemon\n",
       "18        8277  Apple Honeycrisp Organic\n",
       "19       40706    Organic Grape Tomatoes"
      ]
     },
     "execution_count": 56,
     "metadata": {},
     "output_type": "execute_result"
    }
   ],
   "source": [
    "# merging with 'products' table to extract product names \n",
    "top_20_product_id.merge(products, on = 'product_id')[['product_id', 'product_name']]"
   ]
  },
  {
   "cell_type": "markdown",
   "id": "7df00f47",
   "metadata": {},
   "source": [
    "In table above we can see top 20 most popular products. The most popular product - bananas, as they took first and second place (first - regular, secont - organic). Also, we can see that most of top 20 most popular products are organic products. People buy a lot of organic products, which is healthy and more expensive. "
   ]
  },
  {
   "cell_type": "markdown",
   "id": "gross-theme",
   "metadata": {},
   "source": [
    "## [C] Hard (must complete at least two to pass)"
   ]
  },
  {
   "cell_type": "markdown",
   "id": "romantic-deposit",
   "metadata": {},
   "source": [
    "### [C1] How many items do people typically buy in one order? What does the distribution look like?"
   ]
  },
  {
   "cell_type": "code",
   "execution_count": 57,
   "id": "virtual-punch",
   "metadata": {},
   "outputs": [],
   "source": [
    "# counting product amount for each order\n",
    "items_per_order = order_products.groupby('order_id')['product_id'].count()"
   ]
  },
  {
   "cell_type": "code",
   "execution_count": 58,
   "id": "sensitive-breathing",
   "metadata": {},
   "outputs": [
    {
     "data": {
      "text/plain": [
       "0    5\n",
       "dtype: int64"
      ]
     },
     "execution_count": 58,
     "metadata": {},
     "output_type": "execute_result"
    }
   ],
   "source": [
    "# determining the most common amount of products in order\n",
    "items_per_order.mode() "
   ]
  },
  {
   "cell_type": "code",
   "execution_count": 59,
   "id": "completed-frank",
   "metadata": {},
   "outputs": [
    {
     "data": {
      "image/png": "[encoded data removed]",
      "text/plain": [
       "<Figure size 432x288 with 1 Axes>"
      ]
     },
     "metadata": {
      "needs_background": "light"
     },
     "output_type": "display_data"
    }
   ],
   "source": [
    "# histogram 'Distribution of number of products people typically buy in one order'\n",
    "items_per_order.plot(kind = 'hist', \n",
    "                   bins = 30, \n",
    "                   title = 'Distribution of number of products people typically buy in one order',\n",
    "                   ylabel = 'Frequency',\n",
    "                   xlim = [0, items_per_order.max()])\n",
    "plt.xlabel('Number of Items per Order')            \n",
    "plt.show()"
   ]
  },
  {
   "cell_type": "code",
   "execution_count": 60,
   "id": "8fdfb930",
   "metadata": {},
   "outputs": [
    {
     "data": {
      "image/png": "[encoded data removed]",
      "text/plain": [
       "<Figure size 432x288 with 1 Axes>"
      ]
     },
     "metadata": {
      "needs_background": "light"
     },
     "output_type": "display_data"
    }
   ],
   "source": [
    "# closer look at histogram \n",
    "items_per_order\n",
    "items_per_order.plot(kind = 'hist', \n",
    "                   bins = 30, \n",
    "                   title = 'Distribution of number of products people typically buy in one order',\n",
    "                   ylabel = 'Frequency',\n",
    "                   xlim = [0, 64])\n",
    "plt.xlabel('Number of Items per Order')            \n",
    "plt.show()"
   ]
  },
  {
   "cell_type": "markdown",
   "id": "designed-mortality",
   "metadata": {},
   "source": [
    "People typically buy 5 products in one order."
   ]
  },
  {
   "cell_type": "markdown",
   "id": "5e6b5537",
   "metadata": {},
   "source": [
    "### [C2] What are the top 20 items that are reordered most frequently (display their names and product IDs)?"
   ]
  },
  {
   "cell_type": "code",
   "execution_count": 61,
   "id": "024ffa91",
   "metadata": {
    "scrolled": true
   },
   "outputs": [],
   "source": [
    "# extracting top 20 product ids reordered most frequently in order of frequency (descending)\n",
    "top20_id_reodered = order_products.query(\"reordered == 1\")['product_id'].value_counts().head(20).index"
   ]
  },
  {
   "cell_type": "code",
   "execution_count": 62,
   "id": "45014112",
   "metadata": {},
   "outputs": [],
   "source": [
    "# creating the DataFrame with top 20 most popular IDs\n",
    "top20_id_reodered = pd.DataFrame({'product_id': top20_id_reodered})"
   ]
  },
  {
   "cell_type": "code",
   "execution_count": 63,
   "id": "9fa63024",
   "metadata": {},
   "outputs": [],
   "source": [
    "# merging with 'products' table to get names of most popular products\n",
    "top20_products = top20_id_reodered.merge(products, on = 'product_id')"
   ]
  },
  {
   "cell_type": "code",
   "execution_count": 64,
   "id": "5697f09c",
   "metadata": {},
   "outputs": [
    {
     "data": {
      "text/html": [
       "<div>\n",
       "<style scoped>\n",
       "    .dataframe tbody tr th:only-of-type {\n",
       "        vertical-align: middle;\n",
       "    }\n",
       "\n",
       "    .dataframe tbody tr th {\n",
       "        vertical-align: top;\n",
       "    }\n",
       "\n",
       "    .dataframe thead th {\n",
       "        text-align: right;\n",
       "    }\n",
       "</style>\n",
       "<table border=\"1\" class=\"dataframe\">\n",
       "  <thead>\n",
       "    <tr style=\"text-align: right;\">\n",
       "      <th></th>\n",
       "      <th>product_id</th>\n",
       "      <th>product_name</th>\n",
       "    </tr>\n",
       "  </thead>\n",
       "  <tbody>\n",
       "    <tr>\n",
       "      <th>0</th>\n",
       "      <td>24852</td>\n",
       "      <td>Banana</td>\n",
       "    </tr>\n",
       "    <tr>\n",
       "      <th>1</th>\n",
       "      <td>13176</td>\n",
       "      <td>Bag of Organic Bananas</td>\n",
       "    </tr>\n",
       "    <tr>\n",
       "      <th>2</th>\n",
       "      <td>21137</td>\n",
       "      <td>Organic Strawberries</td>\n",
       "    </tr>\n",
       "    <tr>\n",
       "      <th>3</th>\n",
       "      <td>21903</td>\n",
       "      <td>Organic Baby Spinach</td>\n",
       "    </tr>\n",
       "    <tr>\n",
       "      <th>4</th>\n",
       "      <td>47209</td>\n",
       "      <td>Organic Hass Avocado</td>\n",
       "    </tr>\n",
       "    <tr>\n",
       "      <th>5</th>\n",
       "      <td>47766</td>\n",
       "      <td>Organic Avocado</td>\n",
       "    </tr>\n",
       "    <tr>\n",
       "      <th>6</th>\n",
       "      <td>27845</td>\n",
       "      <td>Organic Whole Milk</td>\n",
       "    </tr>\n",
       "    <tr>\n",
       "      <th>7</th>\n",
       "      <td>47626</td>\n",
       "      <td>Large Lemon</td>\n",
       "    </tr>\n",
       "    <tr>\n",
       "      <th>8</th>\n",
       "      <td>27966</td>\n",
       "      <td>Organic Raspberries</td>\n",
       "    </tr>\n",
       "    <tr>\n",
       "      <th>9</th>\n",
       "      <td>16797</td>\n",
       "      <td>Strawberries</td>\n",
       "    </tr>\n",
       "    <tr>\n",
       "      <th>10</th>\n",
       "      <td>26209</td>\n",
       "      <td>Limes</td>\n",
       "    </tr>\n",
       "    <tr>\n",
       "      <th>11</th>\n",
       "      <td>22935</td>\n",
       "      <td>Organic Yellow Onion</td>\n",
       "    </tr>\n",
       "    <tr>\n",
       "      <th>12</th>\n",
       "      <td>24964</td>\n",
       "      <td>Organic Garlic</td>\n",
       "    </tr>\n",
       "    <tr>\n",
       "      <th>13</th>\n",
       "      <td>45007</td>\n",
       "      <td>Organic Zucchini</td>\n",
       "    </tr>\n",
       "    <tr>\n",
       "      <th>14</th>\n",
       "      <td>49683</td>\n",
       "      <td>Cucumber Kirby</td>\n",
       "    </tr>\n",
       "    <tr>\n",
       "      <th>15</th>\n",
       "      <td>28204</td>\n",
       "      <td>Organic Fuji Apple</td>\n",
       "    </tr>\n",
       "    <tr>\n",
       "      <th>16</th>\n",
       "      <td>8277</td>\n",
       "      <td>Apple Honeycrisp Organic</td>\n",
       "    </tr>\n",
       "    <tr>\n",
       "      <th>17</th>\n",
       "      <td>39275</td>\n",
       "      <td>Organic Blueberries</td>\n",
       "    </tr>\n",
       "    <tr>\n",
       "      <th>18</th>\n",
       "      <td>5876</td>\n",
       "      <td>Organic Lemon</td>\n",
       "    </tr>\n",
       "    <tr>\n",
       "      <th>19</th>\n",
       "      <td>49235</td>\n",
       "      <td>Organic Half &amp; Half</td>\n",
       "    </tr>\n",
       "  </tbody>\n",
       "</table>\n",
       "</div>"
      ],
      "text/plain": [
       "    product_id              product_name\n",
       "0        24852                    Banana\n",
       "1        13176    Bag of Organic Bananas\n",
       "2        21137      Organic Strawberries\n",
       "3        21903      Organic Baby Spinach\n",
       "4        47209      Organic Hass Avocado\n",
       "5        47766           Organic Avocado\n",
       "6        27845        Organic Whole Milk\n",
       "7        47626               Large Lemon\n",
       "8        27966       Organic Raspberries\n",
       "9        16797              Strawberries\n",
       "10       26209                     Limes\n",
       "11       22935      Organic Yellow Onion\n",
       "12       24964            Organic Garlic\n",
       "13       45007          Organic Zucchini\n",
       "14       49683            Cucumber Kirby\n",
       "15       28204        Organic Fuji Apple\n",
       "16        8277  Apple Honeycrisp Organic\n",
       "17       39275       Organic Blueberries\n",
       "18        5876             Organic Lemon\n",
       "19       49235       Organic Half & Half"
      ]
     },
     "execution_count": 64,
     "metadata": {},
     "output_type": "execute_result"
    }
   ],
   "source": [
    "# displaying table with top 20 product names and IDs\n",
    "top20_products[['product_id', 'product_name']]"
   ]
  },
  {
   "cell_type": "markdown",
   "id": "80e70c74",
   "metadata": {},
   "source": [
    "In table above we can see the top 20 products that are reordered most frequently. There is a strong correlation between products that are frequently reordered and products that are popular. 19 products in the top 20 frequently reordered table match products in the top 20 popular products table. The order of 6 first products in both tables is the same. After that order is a little differs, but products are the same. Only last product in both tables is different. The most frequently ordered product is bananas, the same as the most popular product. "
   ]
  },
  {
   "cell_type": "markdown",
   "id": "9d312b14",
   "metadata": {},
   "source": [
    "### [C3] For each product, what proportion of its orders are reorders?"
   ]
  },
  {
   "cell_type": "markdown",
   "id": "ff81740b",
   "metadata": {},
   "source": [
    "To determine the proportion of reorders for each product we need to calculate the ratio of reordered orders to the total number of orders for that product."
   ]
  },
  {
   "cell_type": "code",
   "execution_count": 65,
   "id": "8ae9f4b1",
   "metadata": {},
   "outputs": [],
   "source": [
    "# calculating the ratio of reordered orders to the total number of orders for that product\n",
    "# filling missing values with 0 (product wasn't reordered)\n",
    "proportion_reordered = (order_products.query(\"reordered == 1\")['product_id'].value_counts() / \n",
    "                    order_products['product_id'].value_counts()).fillna(0)"
   ]
  },
  {
   "cell_type": "code",
   "execution_count": 66,
   "id": "103e7fe1",
   "metadata": {
    "scrolled": true
   },
   "outputs": [],
   "source": [
    "# connecting to 'products' table to determine product names \n",
    "products_proportion_reordered = products[['product_id', 'product_name']].merge(proportion_reordered, \n",
    "                                                                  left_on = 'product_id', right_index = True)"
   ]
  },
  {
   "cell_type": "code",
   "execution_count": 67,
   "id": "social-individual",
   "metadata": {
    "scrolled": true
   },
   "outputs": [
    {
     "data": {
      "text/html": [
       "<div>\n",
       "<style scoped>\n",
       "    .dataframe tbody tr th:only-of-type {\n",
       "        vertical-align: middle;\n",
       "    }\n",
       "\n",
       "    .dataframe tbody tr th {\n",
       "        vertical-align: top;\n",
       "    }\n",
       "\n",
       "    .dataframe thead th {\n",
       "        text-align: right;\n",
       "    }\n",
       "</style>\n",
       "<table border=\"1\" class=\"dataframe\">\n",
       "  <thead>\n",
       "    <tr style=\"text-align: right;\">\n",
       "      <th></th>\n",
       "      <th>product_id</th>\n",
       "      <th>product_name</th>\n",
       "      <th>proportion_reordered</th>\n",
       "    </tr>\n",
       "  </thead>\n",
       "  <tbody>\n",
       "    <tr>\n",
       "      <th>0</th>\n",
       "      <td>1</td>\n",
       "      <td>Chocolate Sandwich Cookies</td>\n",
       "      <td>0.564286</td>\n",
       "    </tr>\n",
       "    <tr>\n",
       "      <th>1</th>\n",
       "      <td>2</td>\n",
       "      <td>All-Seasons Salt</td>\n",
       "      <td>0.000000</td>\n",
       "    </tr>\n",
       "    <tr>\n",
       "      <th>2</th>\n",
       "      <td>3</td>\n",
       "      <td>Robust Golden Unsweetened Oolong Tea</td>\n",
       "      <td>0.738095</td>\n",
       "    </tr>\n",
       "    <tr>\n",
       "      <th>3</th>\n",
       "      <td>4</td>\n",
       "      <td>Smart Ones Classic Favorites Mini Rigatoni Wit...</td>\n",
       "      <td>0.510204</td>\n",
       "    </tr>\n",
       "    <tr>\n",
       "      <th>6</th>\n",
       "      <td>7</td>\n",
       "      <td>Pure Coconut Water With Orange</td>\n",
       "      <td>0.500000</td>\n",
       "    </tr>\n",
       "    <tr>\n",
       "      <th>...</th>\n",
       "      <td>...</td>\n",
       "      <td>...</td>\n",
       "      <td>...</td>\n",
       "    </tr>\n",
       "    <tr>\n",
       "      <th>49689</th>\n",
       "      <td>49690</td>\n",
       "      <td>HIGH PERFORMANCE ENERGY DRINK</td>\n",
       "      <td>0.800000</td>\n",
       "    </tr>\n",
       "    <tr>\n",
       "      <th>49690</th>\n",
       "      <td>49691</td>\n",
       "      <td>ORIGINAL PANCAKE &amp; WAFFLE MIX</td>\n",
       "      <td>0.430556</td>\n",
       "    </tr>\n",
       "    <tr>\n",
       "      <th>49691</th>\n",
       "      <td>49692</td>\n",
       "      <td>ORGANIC INSTANT OATMEAL LIGHT MAPLE BROWN SUGAR</td>\n",
       "      <td>0.416667</td>\n",
       "    </tr>\n",
       "    <tr>\n",
       "      <th>49692</th>\n",
       "      <td>49693</td>\n",
       "      <td>SPRING WATER BODY WASH</td>\n",
       "      <td>0.440000</td>\n",
       "    </tr>\n",
       "    <tr>\n",
       "      <th>49693</th>\n",
       "      <td>49694</td>\n",
       "      <td>BURRITO- STEAK &amp; CHEESE</td>\n",
       "      <td>0.333333</td>\n",
       "    </tr>\n",
       "  </tbody>\n",
       "</table>\n",
       "<p>45573 rows × 3 columns</p>\n",
       "</div>"
      ],
      "text/plain": [
       "       product_id                                       product_name  \\\n",
       "0               1                         Chocolate Sandwich Cookies   \n",
       "1               2                                   All-Seasons Salt   \n",
       "2               3               Robust Golden Unsweetened Oolong Tea   \n",
       "3               4  Smart Ones Classic Favorites Mini Rigatoni Wit...   \n",
       "6               7                     Pure Coconut Water With Orange   \n",
       "...           ...                                                ...   \n",
       "49689       49690                      HIGH PERFORMANCE ENERGY DRINK   \n",
       "49690       49691                      ORIGINAL PANCAKE & WAFFLE MIX   \n",
       "49691       49692    ORGANIC INSTANT OATMEAL LIGHT MAPLE BROWN SUGAR   \n",
       "49692       49693                             SPRING WATER BODY WASH   \n",
       "49693       49694                            BURRITO- STEAK & CHEESE   \n",
       "\n",
       "       proportion_reordered  \n",
       "0                  0.564286  \n",
       "1                  0.000000  \n",
       "2                  0.738095  \n",
       "3                  0.510204  \n",
       "6                  0.500000  \n",
       "...                     ...  \n",
       "49689              0.800000  \n",
       "49690              0.430556  \n",
       "49691              0.416667  \n",
       "49692              0.440000  \n",
       "49693              0.333333  \n",
       "\n",
       "[45573 rows x 3 columns]"
      ]
     },
     "execution_count": 67,
     "metadata": {},
     "output_type": "execute_result"
    }
   ],
   "source": [
    "# the final table of products with theirs proportions of reorders\n",
    "products_proportion_reordered.drop('product_id_x', axis=1).rename(columns={'product_id_y': 'proportion_reordered'})"
   ]
  },
  {
   "cell_type": "markdown",
   "id": "4b986a40",
   "metadata": {},
   "source": [
    "We created table of products with proportions of reorders for each product."
   ]
  },
  {
   "cell_type": "markdown",
   "id": "subject-boxing",
   "metadata": {},
   "source": [
    "### [C4] For each customer, what proportion of their products ordered are reorders?"
   ]
  },
  {
   "cell_type": "code",
   "execution_count": 68,
   "id": "b98ccb41",
   "metadata": {
    "scrolled": true
   },
   "outputs": [],
   "source": [
    "# calculating the ratio of products reordered to the total number of products pir each order\n",
    "proportion_reordered = (order_products.query(\"reordered == 1\").groupby('order_id')['product_id']\n",
    "                            .sum()/order_products.groupby('order_id')['product_id'].sum()).fillna(0)"
   ]
  },
  {
   "cell_type": "code",
   "execution_count": 69,
   "id": "81a81af5",
   "metadata": {},
   "outputs": [],
   "source": [
    "# putting output to DataFrame\n",
    "proportion_reordered = pd.DataFrame({'order_id': proportion_reordered.index,\n",
    "                                        'proportion_reordered': proportion_reordered.values})"
   ]
  },
  {
   "cell_type": "code",
   "execution_count": 70,
   "id": "abcaa7ee",
   "metadata": {
    "scrolled": true
   },
   "outputs": [],
   "source": [
    "# merging to 'orders' table to get user for each order\n",
    "proportion_reordered_products = orders[['order_id', 'user_id']].merge(proportion_reordered, on = 'order_id')"
   ]
  },
  {
   "cell_type": "code",
   "execution_count": 71,
   "id": "72248d71",
   "metadata": {},
   "outputs": [
    {
     "data": {
      "text/plain": [
       "user_id\n",
       "2         0.038303\n",
       "4         0.000000\n",
       "5         0.783357\n",
       "6         0.000000\n",
       "7         0.983599\n",
       "            ...   \n",
       "206203    0.212027\n",
       "206206    0.731450\n",
       "206207    0.826339\n",
       "206208    0.752158\n",
       "206209    0.304036\n",
       "Name: proportion_reordered, Length: 149626, dtype: float64"
      ]
     },
     "execution_count": 71,
     "metadata": {},
     "output_type": "execute_result"
    }
   ],
   "source": [
    "# calculating proportion of reordered products for each user\n",
    "proportion_reordered_products.groupby('user_id')['proportion_reordered'].mean()"
   ]
  },
  {
   "cell_type": "markdown",
   "id": "60f3e459",
   "metadata": {},
   "source": [
    "We calculated what proportion of each customer products ordered are reorders."
   ]
  },
  {
   "cell_type": "markdown",
   "id": "92d35137",
   "metadata": {},
   "source": [
    "### [C5] What are the top 20 items that people put in their carts first? "
   ]
  },
  {
   "cell_type": "code",
   "execution_count": 72,
   "id": "0ae57274",
   "metadata": {
    "scrolled": true
   },
   "outputs": [],
   "source": [
    "# extracting the top 20 products people put in their carts first\n",
    "top20_id_first = order_products.query(\"add_to_cart_order == 1\")['product_id'].value_counts().head(20).index"
   ]
  },
  {
   "cell_type": "code",
   "execution_count": 73,
   "id": "forty-netherlands",
   "metadata": {
    "scrolled": true
   },
   "outputs": [],
   "source": [
    "# creating DataFrame with top 20 products that people put in their carts first\n",
    "top20_id_first = pd.DataFrame({'product_id': top20_id_first})"
   ]
  },
  {
   "cell_type": "code",
   "execution_count": 74,
   "id": "08e41ec2",
   "metadata": {},
   "outputs": [
    {
     "data": {
      "text/html": [
       "<div>\n",
       "<style scoped>\n",
       "    .dataframe tbody tr th:only-of-type {\n",
       "        vertical-align: middle;\n",
       "    }\n",
       "\n",
       "    .dataframe tbody tr th {\n",
       "        vertical-align: top;\n",
       "    }\n",
       "\n",
       "    .dataframe thead th {\n",
       "        text-align: right;\n",
       "    }\n",
       "</style>\n",
       "<table border=\"1\" class=\"dataframe\">\n",
       "  <thead>\n",
       "    <tr style=\"text-align: right;\">\n",
       "      <th></th>\n",
       "      <th>product_id</th>\n",
       "      <th>product_name</th>\n",
       "    </tr>\n",
       "  </thead>\n",
       "  <tbody>\n",
       "    <tr>\n",
       "      <th>0</th>\n",
       "      <td>24852</td>\n",
       "      <td>Banana</td>\n",
       "    </tr>\n",
       "    <tr>\n",
       "      <th>1</th>\n",
       "      <td>13176</td>\n",
       "      <td>Bag of Organic Bananas</td>\n",
       "    </tr>\n",
       "    <tr>\n",
       "      <th>2</th>\n",
       "      <td>27845</td>\n",
       "      <td>Organic Whole Milk</td>\n",
       "    </tr>\n",
       "    <tr>\n",
       "      <th>3</th>\n",
       "      <td>21137</td>\n",
       "      <td>Organic Strawberries</td>\n",
       "    </tr>\n",
       "    <tr>\n",
       "      <th>4</th>\n",
       "      <td>47209</td>\n",
       "      <td>Organic Hass Avocado</td>\n",
       "    </tr>\n",
       "    <tr>\n",
       "      <th>5</th>\n",
       "      <td>21903</td>\n",
       "      <td>Organic Baby Spinach</td>\n",
       "    </tr>\n",
       "    <tr>\n",
       "      <th>6</th>\n",
       "      <td>47766</td>\n",
       "      <td>Organic Avocado</td>\n",
       "    </tr>\n",
       "    <tr>\n",
       "      <th>7</th>\n",
       "      <td>19660</td>\n",
       "      <td>Spring Water</td>\n",
       "    </tr>\n",
       "    <tr>\n",
       "      <th>8</th>\n",
       "      <td>16797</td>\n",
       "      <td>Strawberries</td>\n",
       "    </tr>\n",
       "    <tr>\n",
       "      <th>9</th>\n",
       "      <td>27966</td>\n",
       "      <td>Organic Raspberries</td>\n",
       "    </tr>\n",
       "    <tr>\n",
       "      <th>10</th>\n",
       "      <td>44632</td>\n",
       "      <td>Sparkling Water Grapefruit</td>\n",
       "    </tr>\n",
       "    <tr>\n",
       "      <th>11</th>\n",
       "      <td>49235</td>\n",
       "      <td>Organic Half &amp; Half</td>\n",
       "    </tr>\n",
       "    <tr>\n",
       "      <th>12</th>\n",
       "      <td>47626</td>\n",
       "      <td>Large Lemon</td>\n",
       "    </tr>\n",
       "    <tr>\n",
       "      <th>13</th>\n",
       "      <td>196</td>\n",
       "      <td>Soda</td>\n",
       "    </tr>\n",
       "    <tr>\n",
       "      <th>14</th>\n",
       "      <td>38689</td>\n",
       "      <td>Organic Reduced Fat Milk</td>\n",
       "    </tr>\n",
       "    <tr>\n",
       "      <th>15</th>\n",
       "      <td>26209</td>\n",
       "      <td>Limes</td>\n",
       "    </tr>\n",
       "    <tr>\n",
       "      <th>16</th>\n",
       "      <td>12341</td>\n",
       "      <td>Hass Avocados</td>\n",
       "    </tr>\n",
       "    <tr>\n",
       "      <th>17</th>\n",
       "      <td>5785</td>\n",
       "      <td>Organic Reduced Fat 2% Milk</td>\n",
       "    </tr>\n",
       "    <tr>\n",
       "      <th>18</th>\n",
       "      <td>27086</td>\n",
       "      <td>Half &amp; Half</td>\n",
       "    </tr>\n",
       "    <tr>\n",
       "      <th>19</th>\n",
       "      <td>22935</td>\n",
       "      <td>Organic Yellow Onion</td>\n",
       "    </tr>\n",
       "  </tbody>\n",
       "</table>\n",
       "</div>"
      ],
      "text/plain": [
       "    product_id                 product_name\n",
       "0        24852                       Banana\n",
       "1        13176       Bag of Organic Bananas\n",
       "2        27845           Organic Whole Milk\n",
       "3        21137         Organic Strawberries\n",
       "4        47209         Organic Hass Avocado\n",
       "5        21903         Organic Baby Spinach\n",
       "6        47766              Organic Avocado\n",
       "7        19660                 Spring Water\n",
       "8        16797                 Strawberries\n",
       "9        27966          Organic Raspberries\n",
       "10       44632   Sparkling Water Grapefruit\n",
       "11       49235          Organic Half & Half\n",
       "12       47626                  Large Lemon\n",
       "13         196                         Soda\n",
       "14       38689     Organic Reduced Fat Milk\n",
       "15       26209                        Limes\n",
       "16       12341                Hass Avocados\n",
       "17        5785  Organic Reduced Fat 2% Milk\n",
       "18       27086                  Half & Half\n",
       "19       22935         Organic Yellow Onion"
      ]
     },
     "execution_count": 74,
     "metadata": {},
     "output_type": "execute_result"
    }
   ],
   "source": [
    "# merging to 'products' table to get product names\n",
    "top20_id_first.merge(products, on = 'product_id')[['product_id', 'product_name']]"
   ]
  },
  {
   "cell_type": "markdown",
   "id": "28ce9872",
   "metadata": {},
   "source": [
    "In table above we can see the top 20 products that people put in their carts first. There is a strong correlation between products that people put in their carts first, products that are frequently reordered and products that are popular. Most products that were put in cart first match top 20 popular products and top 20 reordered products. And again, bananas and organic bananas take first and second places respectively."
   ]
  },
  {
   "cell_type": "markdown",
   "id": "a6f330aa",
   "metadata": {},
   "source": [
    "# Findings <a id='end'></a>"
   ]
  },
  {
   "cell_type": "markdown",
   "id": "7a1994e3",
   "metadata": {},
   "source": [
    "After analyzing the data, here are our key findings:\n",
    "\n",
    "* Peak Shopping Time: The busiest time for grocery shopping is typically around 10:00 a.m., with the most popular shopping hours occurring between 10:00 a.m. and 4:00 p.m.\n",
    "\n",
    "* Shopping Days: Sundays and Mondays are the most common days for grocery shopping, indicating higher demand at the beginning of the week.\n",
    "\n",
    "* Differences Between Wednesdays and Saturdays: On Wednesdays, there are two peaks in shopping activity, one in the morning (10:00 a.m. - 12:00 p.m.) and another in the late afternoon (3:00 p.m. - 5:00 p.m.). The busiest hour on Wednesdays is from 3:00 p.m. to 4:00 p.m. In contrast, on Saturdays, shopping activity steadily increases throughout the day, reaching its peak at 2:00 p.m. The busiest shopping hours for both days are between 10:00 a.m. and 5:00 p.m.\n",
    "\n",
    "* Single Orders: Most customers place just one order, suggesting a significant number of new customers trying the service.\n",
    "\n",
    "* Ordering Frequency: Customers typically wait about 30 days (approximately 1 month) before placing their next order.\n",
    "\n",
    "* Products per Order: On average, customers purchase around 5 products in a single order.\n",
    "\n",
    "* Reorder Proportions: We calculated the proportions of reorders for each product and the proportion of each customer's ordered products that are reorders.\n",
    "\n",
    "* Top 20 Tables: We created three top 20 tables:\n",
    "\n",
    "         * Top 20 Most Popular Products\n",
    "         * Top 20 Products Reordered Most Frequently\n",
    "         * Top 20 Products That Customers Add to Their Carts First\n",
    "\n",
    "* Consistent Top Products: It's noteworthy that the most popular products across all three tables are the same.\n",
    "\n",
    "* Popularity of Bananas: Bananas and organic bananas consistently rank at the top of all three tables, indicating their popularity, frequent reordering, and high demand as customers' first choice.\n",
    "\n",
    "* Preference for Organic Products: Organic products dominate all of the top 20 lists, suggesting a strong preference among customers for healthier and potentially more expensive options."
   ]
  },
  {
   "cell_type": "markdown",
   "id": "dabfd5e6",
   "metadata": {},
   "source": [
    "[Back to Contents](#back)"
   ]
  }
 ],
 "metadata": {
  "kernelspec": {
   "display_name": "Python 3 (ipykernel)",
   "language": "python",
   "name": "python3"
  },
  "language_info": {
   "codemirror_mode": {
    "name": "ipython",
    "version": 3
   },
   "file_extension": ".py",
   "mimetype": "text/x-python",
   "name": "python",
   "nbconvert_exporter": "python",
   "pygments_lexer": "ipython3",
   "version": "3.9.5"
  },
  "toc": {
   "base_numbering": 1,
   "nav_menu": {},
   "number_sections": true,
   "sideBar": true,
   "skip_h1_title": true,
   "title_cell": "Table of Contents",
   "title_sidebar": "Contents",
   "toc_cell": false,
   "toc_position": {
    "height": "calc(100% - 180px)",
    "left": "10px",
    "top": "150px",
    "width": "336px"
   },
   "toc_section_display": true,
   "toc_window_display": true
  },
  "vscode": {
   "interpreter": {
    "hash": "01a7be9ec63e704a62cefc5fe7a4756944464ee731be31632bdf42a4cb4688cf"
   }
  }
 },
 "nbformat": 4,
 "nbformat_minor": 5
}
